{
  "nbformat": 4,
  "nbformat_minor": 0,
  "metadata": {
    "colab": {
      "name": "AI_06_김태호_CS1.ipynb",
      "provenance": [],
      "collapsed_sections": []
    },
    "kernelspec": {
      "name": "python3",
      "display_name": "Python 3"
    },
    "language_info": {
      "name": "python"
    }
  },
  "cells": [
    {
      "cell_type": "markdown",
      "source": [
        "#Project1\n",
        "##카셰어링 앱에서 전기차 선호 증진 방안\n",
        "### 전기차 렌트 시 충전량에 대한 부담과 충전소 위치가 확인하기 어렵기 때문에 해당 내용을 확인할 수 있도록 해주고, 목적지 입력에 거부감을 가지지 않도록 목적지 입력 시 해당 지역의 추천 맛집, 명소를 리턴해주는 방식이 필요하다고 생각했습니다.\n"
      ],
      "metadata": {
        "id": "K51cE-ucf13N"
      }
    },
    {
      "cell_type": "markdown",
      "source": [
        "## 전국 전기차 충전소 정보"
      ],
      "metadata": {
        "id": "nuGsIWlKKvwd"
      }
    },
    {
      "cell_type": "code",
      "execution_count": 9,
      "metadata": {
        "colab": {
          "base_uri": "https://localhost:8080/"
        },
        "id": "cbr3Ybmmfxva",
        "outputId": "bd1cac0d-2360-4f36-f328-151fb2ece8a7"
      },
      "outputs": [
        {
          "output_type": "stream",
          "name": "stdout",
          "text": [
            "b'<?xml version=\"1.0\" encoding=\"UTF-8\" standalone=\"yes\"?><response><header><resultCode>00</resultCode><resultMsg>NORMAL SERVICE.</resultMsg><totalCount>92274</totalCount><pageNo>10</pageNo><numOfRows>10</numOfRows></header><body><items><item><statNm>\\xec\\x9d\\xb4\\xeb\\xa7\\x88\\xed\\x8a\\xb8 \\xec\\x84\\xb1\\xeb\\x82\\xa8\\xec\\xa0\\x90</statNm><statId>ME000111</statId><chgerId>01</chgerId><chgerType>03</chgerType><addr>\\xea\\xb2\\xbd\\xea\\xb8\\xb0\\xeb\\x8f\\x84 \\xec\\x84\\xb1\\xeb\\x82\\xa8\\xec\\x8b\\x9c \\xec\\x88\\x98\\xec\\xa0\\x95\\xea\\xb5\\xac \\xec\\x88\\x98\\xec\\xa0\\x95\\xeb\\xa1\\x9c 201</addr><location>null</location><lat>37.44396711</lat><lng>127.14108755</lng><useTime>10:00~22:00</useTime><busiId>ME</busiId><bnm>\\xed\\x99\\x98\\xea\\xb2\\xbd\\xeb\\xb6\\x80</bnm><busiNm>\\xed\\x99\\x98\\xea\\xb2\\xbd\\xeb\\xb6\\x80</busiNm><busiCall>1661-9408</busiCall><stat>9</stat><statUpdDt>20211019144810</statUpdDt><lastTsdt>20210824130038</lastTsdt><lastTedt>20210824132425</lastTedt><nowTsdt></nowTsdt><powerType></powerType><output>50</output><method>\\xeb\\x8b\\xa8\\xeb\\x8f\\x85</method><zcode>41</zcode><parkingFree>N</parkingFree><note></note><limitYn>N</limitYn><limitDetail></limitDetail><delYn>N</delYn><delDetail></delDetail></item><item><statNm>\\xec\\x84\\xb1\\xeb\\x82\\xa8\\xec\\x8b\\x9c\\xec\\xb2\\xad</statNm><statId>ME000112</statId><chgerId>01</chgerId><chgerType>06</chgerType><addr>\\xea\\xb2\\xbd\\xea\\xb8\\xb0\\xeb\\x8f\\x84 \\xec\\x84\\xb1\\xeb\\x82\\xa8\\xec\\x8b\\x9c \\xec\\xa4\\x91\\xec\\x9b\\x90\\xea\\xb5\\xac \\xec\\x84\\xb1\\xeb\\x82\\xa8\\xeb\\x8c\\x80\\xeb\\xa1\\x9c 997</addr><location>null</location><lat>37.420017</lat><lng>127.126649</lng><useTime>24\\xec\\x8b\\x9c\\xea\\xb0\\x84 \\xec\\x9d\\xb4\\xec\\x9a\\xa9\\xea\\xb0\\x80\\xeb\\x8a\\xa5</useTime><busiId>ME</busiId><bnm>\\xed\\x99\\x98\\xea\\xb2\\xbd\\xeb\\xb6\\x80</bnm><busiNm>\\xed\\x99\\x98\\xea\\xb2\\xbd\\xeb\\xb6\\x80</busiNm><busiCall>1661-9408</busiCall><stat>9</stat><statUpdDt>20210910095810</statUpdDt><lastTsdt>20210901145835</lastTsdt><lastTedt>20210901153842</lastTedt><nowTsdt></nowTsdt><powerType></powerType><output>50</output><method>\\xeb\\x8b\\xa8\\xeb\\x8f\\x85</method><zcode>41</zcode><parkingFree>N</parkingFree><note></note><limitYn>N</limitYn><limitDetail></limitDetail><delYn>N</delYn><delDetail></delDetail></item><item><statNm>\\xeb\\x8f\\x99\\xec\\x96\\x91\\xec\\xbb\\xb4\\xed\\x93\\xa8\\xed\\x84\\xb0\\xed\\x95\\x99\\xec\\x9b\\x90 \\xec\\x95\\x9e(\\xea\\xb3\\xb5\\xec\\xa4\\x91\\xec\\xa0\\x84\\xed\\x99\\x94\\xeb\\xb6\\x80\\xec\\x8a\\xa4)</statNm><statId>ME000113</statId><chgerId>01</chgerId><chgerType>06</chgerType><addr>\\xea\\xb2\\xbd\\xea\\xb8\\xb0\\xeb\\x8f\\x84 \\xec\\x84\\xb1\\xeb\\x82\\xa8\\xec\\x8b\\x9c \\xec\\xa4\\x91\\xec\\x9b\\x90\\xea\\xb5\\xac \\xec\\xa4\\x91\\xec\\x95\\x99\\xeb\\x8f\\x99 1175</addr><location>null</location><lat>37.4398788</lat><lng>127.1455762</lng><useTime>24\\xec\\x8b\\x9c\\xea\\xb0\\x84 \\xec\\x9d\\xb4\\xec\\x9a\\xa9\\xea\\xb0\\x80\\xeb\\x8a\\xa5</useTime><busiId>ME</busiId><bnm>\\xed\\x99\\x98\\xea\\xb2\\xbd\\xeb\\xb6\\x80</bnm><busiNm>\\xed\\x99\\x98\\xea\\xb2\\xbd\\xeb\\xb6\\x80</busiNm><busiCall>1661-9408</busiCall><stat>3</stat><statUpdDt>20211222111026</statUpdDt><lastTsdt>20211222102600</lastTsdt><lastTedt>20211222104540</lastTedt><nowTsdt>20211222110948</nowTsdt><powerType></powerType><output>50</output><method>\\xeb\\x8b\\xa8\\xeb\\x8f\\x85</method><zcode>41</zcode><parkingFree>N</parkingFree><note></note><limitYn>N</limitYn><limitDetail></limitDetail><delYn>N</delYn><delDetail></delDetail></item><item><statNm>\\xec\\x9c\\xa8\\xeb\\x8f\\x99\\xec\\x9e\\x90\\xec\\x97\\xb0\\xea\\xb3\\xb5\\xec\\x9b\\x90 B\\xec\\xa3\\xbc\\xec\\xb0\\xa8\\xec\\x9e\\xa5</statNm><statId>ME000114</statId><chgerId>01</chgerId><chgerType>06</chgerType><addr>\\xea\\xb2\\xbd\\xea\\xb8\\xb0\\xeb\\x8f\\x84 \\xec\\x84\\xb1\\xeb\\x82\\xa8\\xec\\x8b\\x9c \\xeb\\xb6\\x84\\xeb\\x8b\\xb9\\xea\\xb5\\xac \\xec\\x84\\x9c\\xed\\x98\\x84\\xeb\\xa1\\x9c 459</addr><location>null</location><lat>37.372759</lat><lng>127.147019</lng><useTime>24\\xec\\x8b\\x9c\\xea\\xb0\\x84 \\xec\\x9d\\xb4\\xec\\x9a\\xa9\\xea\\xb0\\x80\\xeb\\x8a\\xa5</useTime><busiId>ME</busiId><bnm>\\xed\\x99\\x98\\xea\\xb2\\xbd\\xeb\\xb6\\x80</bnm><busiNm>\\xed\\x99\\x98\\xea\\xb2\\xbd\\xeb\\xb6\\x80</busiNm><busiCall>1661-9408</busiCall><stat>9</stat><statUpdDt>20210910095810</statUpdDt><lastTsdt>20210906110648</lastTsdt><lastTedt>20210906113812</lastTedt><nowTsdt></nowTsdt><powerType></powerType><output>50</output><method>\\xeb\\x8b\\xa8\\xeb\\x8f\\x85</method><zcode>41</zcode><parkingFree>N</parkingFree><note></note><limitYn>N</limitYn><limitDetail></limitDetail><delYn>N</delYn><delDetail></delDetail></item><item><statNm>\\xec\\x84\\xb1\\xeb\\x82\\xa8 \\xeb\\xa7\\x9b\\xea\\xb3\\xa0\\xec\\x9d\\x84 \\xec\\xa3\\xbc\\xec\\xb0\\xa8\\xec\\x9e\\xa5</statNm><statId>ME000115</statId><chgerId>01</chgerId><chgerType>06</chgerType><addr>\\xea\\xb2\\xbd\\xea\\xb8\\xb0\\xeb\\x8f\\x84 \\xec\\x84\\xb1\\xeb\\x82\\xa8\\xec\\x8b\\x9c \\xeb\\xb6\\x84\\xeb\\x8b\\xb9\\xea\\xb5\\xac \\xec\\x95\\xbc\\xed\\x83\\x91\\xeb\\xa1\\x9c 111\\xeb\\xb2\\x88\\xea\\xb8\\xb8 12-14</addr><location>null</location><lat>37.4119752</lat><lng>127.1320774</lng><useTime></useTime><busiId>ME</busiId><bnm>\\xed\\x99\\x98\\xea\\xb2\\xbd\\xeb\\xb6\\x80</bnm><busiNm>\\xed\\x99\\x98\\xea\\xb2\\xbd\\xeb\\xb6\\x80</busiNm><busiCall>1661-9408</busiCall><stat>9</stat><statUpdDt>20211222092310</statUpdDt><lastTsdt>20211218124136</lastTsdt><lastTedt>20211218132215</lastTedt><nowTsdt></nowTsdt><powerType></powerType><output>50</output><method>\\xeb\\x8b\\xa8\\xeb\\x8f\\x85</method><zcode>41</zcode><parkingFree>N</parkingFree><note></note><limitYn>N</limitYn><limitDetail></limitDetail><delYn>N</delYn><delDetail></delDetail></item><item><statNm>\\xed\\x95\\x98\\xeb\\x82\\x98\\xeb\\xa1\\x9c\\xeb\\xa7\\x88\\xed\\x8a\\xb8 \\xec\\x84\\xb1\\xeb\\x82\\xa8\\xec\\xa0\\x90</statNm><statId>ME000116</statId><chgerId>01</chgerId><chgerType>06</chgerType><addr>\\xea\\xb2\\xbd\\xea\\xb8\\xb0\\xeb\\x8f\\x84 \\xec\\x84\\xb1\\xeb\\x82\\xa8\\xec\\x8b\\x9c \\xeb\\xb6\\x84\\xeb\\x8b\\xb9\\xea\\xb5\\xac \\xec\\x84\\xb1\\xeb\\x82\\xa8\\xeb\\x8c\\x80\\xeb\\xa1\\x9c 43\\xeb\\xb2\\x88\\xea\\xb8\\xb8 11 </addr><location>null</location><lat>37.3378677</lat><lng>127.1086182</lng><useTime>24\\xec\\x8b\\x9c\\xea\\xb0\\x84 \\xec\\x9d\\xb4\\xec\\x9a\\xa9\\xea\\xb0\\x80\\xeb\\x8a\\xa5</useTime><busiId>ME</busiId><bnm>\\xed\\x99\\x98\\xea\\xb2\\xbd\\xeb\\xb6\\x80</bnm><busiNm>\\xed\\x99\\x98\\xea\\xb2\\xbd\\xeb\\xb6\\x80</busiNm><busiCall>1661-9408</busiCall><stat>2</stat><statUpdDt>20211222060838</statUpdDt><lastTsdt>20211222052753</lastTsdt><lastTedt>20211222060833</lastTedt><nowTsdt></nowTsdt><powerType></powerType><output>50</output><method>\\xeb\\x8b\\xa8\\xeb\\x8f\\x85</method><zcode>41</zcode><parkingFree>N</parkingFree><note></note><limitYn>N</limitYn><limitDetail></limitDetail><delYn>N</delYn><delDetail></delDetail></item><item><statNm>\\xed\\x99\\x88\\xed\\x94\\x8c\\xeb\\x9f\\xac\\xec\\x8a\\xa4 \\xec\\x9d\\x98\\xec\\xa0\\x95\\xeb\\xb6\\x80\\xec\\xa0\\x90</statNm><statId>ME000117</statId><chgerId>01</chgerId><chgerType>03</chgerType><addr>\\xea\\xb2\\xbd\\xea\\xb8\\xb0\\xeb\\x8f\\x84 \\xec\\x9d\\x98\\xec\\xa0\\x95\\xeb\\xb6\\x80\\xec\\x8b\\x9c \\xec\\xb2\\xad\\xec\\x82\\xac\\xeb\\xa1\\x9c 38</addr><location>null</location><lat>37.75264066</lat><lng>127.07132022</lng><useTime>10:00~23:40</useTime><busiId>ME</busiId><bnm>\\xed\\x99\\x98\\xea\\xb2\\xbd\\xeb\\xb6\\x80</bnm><busiNm>\\xed\\x99\\x98\\xea\\xb2\\xbd\\xeb\\xb6\\x80</busiNm><busiCall>1661-9408</busiCall><stat>2</stat><statUpdDt>20211221105833</statUpdDt><lastTsdt>20211221101752</lastTsdt><lastTedt>20211221105837</lastTedt><nowTsdt></nowTsdt><powerType></powerType><output>50</output><method>\\xeb\\x8b\\xa8\\xeb\\x8f\\x85</method><zcode>41</zcode><parkingFree>N</parkingFree><note></note><limitYn>N</limitYn><limitDetail></limitDetail><delYn>N</delYn><delDetail></delDetail></item><item><statNm>\\xed\\x99\\x88\\xed\\x94\\x8c\\xeb\\x9f\\xac\\xec\\x8a\\xa4 \\xec\\x95\\x88\\xec\\x96\\x91\\xec\\xa0\\x90</statNm><statId>ME000118</statId><chgerId>01</chgerId><chgerType>03</chgerType><addr>\\xea\\xb2\\xbd\\xea\\xb8\\xb0\\xeb\\x8f\\x84 \\xec\\x95\\x88\\xec\\x96\\x91\\xec\\x8b\\x9c \\xeb\\x8f\\x99\\xec\\x95\\x88\\xea\\xb5\\xac \\xec\\x97\\x98\\xec\\x97\\x90\\xec\\x8a\\xa4\\xeb\\xa1\\x9c 92</addr><location>null</location><lat>37.370042</lat><lng>126.953179</lng><useTime>09:00~24:00</useTime><busiId>ME</busiId><bnm>\\xed\\x99\\x98\\xea\\xb2\\xbd\\xeb\\xb6\\x80</bnm><busiNm>\\xed\\x99\\x98\\xea\\xb2\\xbd\\xeb\\xb6\\x80</busiNm><busiCall>1661-9408</busiCall><stat>2</stat><statUpdDt>20211221170406</statUpdDt><lastTsdt>20211221163251</lastTsdt><lastTedt>20211221170409</lastTedt><nowTsdt></nowTsdt><powerType></powerType><output>50</output><method>\\xeb\\x8b\\xa8\\xeb\\x8f\\x85</method><zcode>41</zcode><parkingFree>N</parkingFree><note></note><limitYn>N</limitYn><limitDetail></limitDetail><delYn>N</delYn><delDetail></delDetail></item><item><statNm>\\xec\\x95\\x88\\xec\\x96\\x91\\xec\\x8b\\x9c\\xec\\xb2\\xad</statNm><statId>ME000119</statId><chgerId>01</chgerId><chgerType>06</chgerType><addr>\\xea\\xb2\\xbd\\xea\\xb8\\xb0\\xeb\\x8f\\x84 \\xec\\x95\\x88\\xec\\x96\\x91\\xec\\x8b\\x9c \\xeb\\x8f\\x99\\xec\\x95\\x88\\xea\\xb5\\xac \\xea\\xb4\\x80\\xec\\x95\\x99\\xeb\\x8f\\x99 1590</addr><location>null</location><lat>37.394966</lat><lng>126.957851</lng><useTime>24\\xec\\x8b\\x9c\\xea\\xb0\\x84 \\xec\\x9d\\xb4\\xec\\x9a\\xa9\\xea\\xb0\\x80\\xeb\\x8a\\xa5</useTime><busiId>ME</busiId><bnm>\\xed\\x99\\x98\\xea\\xb2\\xbd\\xeb\\xb6\\x80</bnm><busiNm>\\xed\\x99\\x98\\xea\\xb2\\xbd\\xeb\\xb6\\x80</busiNm><busiCall>1661-9408</busiCall><stat>9</stat><statUpdDt>20211222011310</statUpdDt><lastTsdt>20211222003155</lastTsdt><lastTedt>20211222004230</lastTedt><nowTsdt></nowTsdt><powerType></powerType><output>50</output><method>\\xeb\\x8b\\xa8\\xeb\\x8f\\x85</method><zcode>41</zcode><parkingFree>N</parkingFree><note></note><limitYn>N</limitYn><limitDetail></limitDetail><delYn>N</delYn><delDetail></delDetail></item><item><statNm>\\xec\\x9d\\xb4\\xeb\\xa7\\x88\\xed\\x8a\\xb8 \\xec\\xa4\\x91\\xeb\\x8f\\x99\\xec\\xa0\\x90</statNm><statId>ME000120</statId><chgerId>01</chgerId><chgerType>03</chgerType><addr>\\xea\\xb2\\xbd\\xea\\xb8\\xb0\\xeb\\x8f\\x84 \\xeb\\xb6\\x80\\xec\\xb2\\x9c\\xec\\x8b\\x9c \\xec\\x9b\\x90\\xeb\\xaf\\xb8\\xea\\xb5\\xac \\xec\\x84\\x9d\\xec\\xb2\\x9c\\xeb\\xa1\\x9c 188</addr><location>null</location><lat>37.50395069</lat><lng>126.76409287</lng><useTime>10:00~24:00</useTime><busiId>ME</busiId><bnm>\\xed\\x99\\x98\\xea\\xb2\\xbd\\xeb\\xb6\\x80</bnm><busiNm>\\xed\\x99\\x98\\xea\\xb2\\xbd\\xeb\\xb6\\x80</busiNm><busiCall>1661-9408</busiCall><stat>9</stat><statUpdDt>20211124162310</statUpdDt><lastTsdt>20211018113644</lastTsdt><lastTedt>20211018113856</lastTedt><nowTsdt></nowTsdt><powerType></powerType><output>50</output><method>\\xeb\\x8b\\xa8\\xeb\\x8f\\x85</method><zcode>41</zcode><parkingFree>N</parkingFree><note></note><limitYn>N</limitYn><limitDetail></limitDetail><delYn>N</delYn><delDetail></delDetail></item></items></body></response>'\n"
          ]
        }
      ],
      "source": [
        "import requests\n",
        "#API 불러오기\n",
        "url = 'http://apis.data.go.kr/B552584/EvCharger/getChargerInfo'\n",
        "params ={'serviceKey' : 'uq85vB0CVxMjRW8l/pz9IpBuoHGnXu5kw2tDlcjZZ7p8FI4eKWy85qTNK2rcfISJRZQFVabvDSEq3iEhe4cOFQ==',\n",
        "         'pageNo' : '10',\n",
        "         'numOfRows' : '10',\n",
        "         'period' : '5'}\n",
        "\n",
        "response = requests.get(url, params=params).text.encode('utf-8')\n",
        "print(response)"
      ]
    },
    {
      "cell_type": "code",
      "source": [
        "import pprint\n",
        "# 데이터 결과값 예쁘게 출력해주는 코드\n",
        "pp = pprint.PrettyPrinter(indent=4)\n",
        "print(pp.pprint(response))\n"
      ],
      "metadata": {
        "colab": {
          "base_uri": "https://localhost:8080/"
        },
        "id": "41StZh9g_96i",
        "outputId": "d35f7f90-3c13-4b65-d366-fb804f5491c7"
      },
      "execution_count": 10,
      "outputs": [
        {
          "output_type": "stream",
          "name": "stdout",
          "text": [
            "(b'<?xml version=\"1.0\" encoding=\"UTF-8\" standalone=\"yes\"?><response><header><re'\n",
            " b'sultCode>00</resultCode><resultMsg>NORMAL SERVICE.</resultMsg><totalCount>92'\n",
            " b'274</totalCount><pageNo>10</pageNo><numOfRows>10</numOfRows></header><body><'\n",
            " b'items><item><statNm>\\xec\\x9d\\xb4\\xeb\\xa7\\x88\\xed\\x8a\\xb8 \\xec\\x84'\n",
            " b'\\xb1\\xeb\\x82\\xa8\\xec\\xa0\\x90</statNm><statId>ME000111</statId><chgerId>01'\n",
            " b'</chgerId><chgerType>03</chgerType><addr>\\xea\\xb2\\xbd\\xea\\xb8\\xb0\\xeb'\n",
            " b'\\x8f\\x84 \\xec\\x84\\xb1\\xeb\\x82\\xa8\\xec\\x8b\\x9c \\xec\\x88\\x98\\xec\\xa0\\x95\\xea'\n",
            " b'\\xb5\\xac \\xec\\x88\\x98\\xec\\xa0\\x95\\xeb\\xa1\\x9c 201</addr><location>null</l'\n",
            " b'ocation><lat>37.44396711</lat><lng>127.14108755</lng><useTime>10:00~22:00</u'\n",
            " b'seTime><busiId>ME</busiId><bnm>\\xed\\x99\\x98\\xea\\xb2\\xbd\\xeb\\xb6\\x80</bnm><b'\n",
            " b'usiNm>\\xed\\x99\\x98\\xea\\xb2\\xbd\\xeb\\xb6\\x80</busiNm><busiCall>1661-9408</bus'\n",
            " b'iCall><stat>9</stat><statUpdDt>20211019144810</statUpdDt><lastTsdt>202108241'\n",
            " b'30038</lastTsdt><lastTedt>20210824132425</lastTedt><nowTsdt></nowTsdt><power'\n",
            " b'Type></powerType><output>50</output><method>\\xeb\\x8b\\xa8\\xeb\\x8f\\x85</meth'\n",
            " b'od><zcode>41</zcode><parkingFree>N</parkingFree><note></note><limitYn>N</lim'\n",
            " b'itYn><limitDetail></limitDetail><delYn>N</delYn><delDetail></delDetail></ite'\n",
            " b'm><item><statNm>\\xec\\x84\\xb1\\xeb\\x82\\xa8\\xec\\x8b\\x9c\\xec\\xb2\\xad</statNm><st'\n",
            " b'atId>ME000112</statId><chgerId>01</chgerId><chgerType>06</chgerType><add'\n",
            " b'r>\\xea\\xb2\\xbd\\xea\\xb8\\xb0\\xeb\\x8f\\x84 \\xec\\x84\\xb1\\xeb\\x82\\xa8\\xec\\x8b'\n",
            " b'\\x9c \\xec\\xa4\\x91\\xec\\x9b\\x90\\xea\\xb5\\xac \\xec\\x84\\xb1\\xeb\\x82\\xa8\\xeb\\x8c'\n",
            " b'\\x80\\xeb\\xa1\\x9c 997</addr><location>null</location><lat>37.420017</lat><lng'\n",
            " b'>127.126649</lng><useTime>24\\xec\\x8b\\x9c\\xea\\xb0\\x84 \\xec\\x9d\\xb4\\xec\\x9a'\n",
            " b'\\xa9\\xea\\xb0\\x80\\xeb\\x8a\\xa5</useTime><busiId>ME</busiId><bnm>\\xed\\x99\\x98'\n",
            " b'\\xea\\xb2\\xbd\\xeb\\xb6\\x80</bnm><busiNm>\\xed\\x99\\x98\\xea\\xb2\\xbd\\xeb\\xb6'\n",
            " b'\\x80</busiNm><busiCall>1661-9408</busiCall><stat>9</stat><statUpdDt>2021091'\n",
            " b'0095810</statUpdDt><lastTsdt>20210901145835</lastTsdt><lastTedt>202109011538'\n",
            " b'42</lastTedt><nowTsdt></nowTsdt><powerType></powerType><output>50</output><m'\n",
            " b'ethod>\\xeb\\x8b\\xa8\\xeb\\x8f\\x85</method><zcode>41</zcode><parkingFree>N</pa'\n",
            " b'rkingFree><note></note><limitYn>N</limitYn><limitDetail></limitDetail><delYn'\n",
            " b'>N</delYn><delDetail></delDetail></item><item><statNm>\\xeb\\x8f'\n",
            " b'\\x99\\xec\\x96\\x91\\xec\\xbb\\xb4\\xed\\x93\\xa8\\xed\\x84\\xb0\\xed\\x95\\x99'\n",
            " b'\\xec\\x9b\\x90 \\xec\\x95\\x9e(\\xea\\xb3\\xb5\\xec\\xa4\\x91\\xec\\xa0\\x84\\xed\\x99\\x94'\n",
            " b'\\xeb\\xb6\\x80\\xec\\x8a\\xa4)</statNm><statId>ME000113</statId><chgerId>01</ch'\n",
            " b'gerId><chgerType>06</chgerType><addr>\\xea\\xb2\\xbd\\xea\\xb8\\xb0\\xeb'\n",
            " b'\\x8f\\x84 \\xec\\x84\\xb1\\xeb\\x82\\xa8\\xec\\x8b\\x9c \\xec\\xa4\\x91\\xec\\x9b\\x90\\xea'\n",
            " b'\\xb5\\xac \\xec\\xa4\\x91\\xec\\x95\\x99\\xeb\\x8f\\x99 1175</addr><location>null</'\n",
            " b'location><lat>37.4398788</lat><lng>127.1455762</lng><useTime>24\\xec'\n",
            " b'\\x8b\\x9c\\xea\\xb0\\x84 \\xec\\x9d\\xb4\\xec\\x9a\\xa9\\xea\\xb0\\x80\\xeb\\x8a\\xa5</useT'\n",
            " b'ime><busiId>ME</busiId><bnm>\\xed\\x99\\x98\\xea\\xb2\\xbd\\xeb\\xb6\\x80</bnm><busi'\n",
            " b'Nm>\\xed\\x99\\x98\\xea\\xb2\\xbd\\xeb\\xb6\\x80</busiNm><busiCall>1661-9408</busiCa'\n",
            " b'll><stat>3</stat><statUpdDt>20211222111026</statUpdDt><lastTsdt>202112221026'\n",
            " b'00</lastTsdt><lastTedt>20211222104540</lastTedt><nowTsdt>20211222110948</now'\n",
            " b'Tsdt><powerType></powerType><output>50</output><method>\\xeb\\x8b\\xa8\\xeb\\x8f'\n",
            " b'\\x85</method><zcode>41</zcode><parkingFree>N</parkingFree><note></note><lim'\n",
            " b'itYn>N</limitYn><limitDetail></limitDetail><delYn>N</delYn><delDetail></delD'\n",
            " b'etail></item><item><statNm>\\xec\\x9c\\xa8\\xeb\\x8f\\x99\\xec\\x9e\\x90'\n",
            " b'\\xec\\x97\\xb0\\xea\\xb3\\xb5\\xec\\x9b\\x90 B\\xec\\xa3\\xbc\\xec\\xb0\\xa8\\xec\\x9e\\xa5'\n",
            " b'</statNm><statId>ME000114</statId><chgerId>01</chgerId><chgerType>06</chgerT'\n",
            " b'ype><addr>\\xea\\xb2\\xbd\\xea\\xb8\\xb0\\xeb\\x8f\\x84 \\xec\\x84\\xb1\\xeb'\n",
            " b'\\x82\\xa8\\xec\\x8b\\x9c \\xeb\\xb6\\x84\\xeb\\x8b\\xb9\\xea\\xb5\\xac \\xec\\x84\\x9c\\xed'\n",
            " b'\\x98\\x84\\xeb\\xa1\\x9c 459</addr><location>null</location><lat>37.372759</lat'\n",
            " b'><lng>127.147019</lng><useTime>24\\xec\\x8b\\x9c\\xea\\xb0\\x84 \\xec\\x9d\\xb4\\xec'\n",
            " b'\\x9a\\xa9\\xea\\xb0\\x80\\xeb\\x8a\\xa5</useTime><busiId>ME</busiId><bnm>\\xed\\x99'\n",
            " b'\\x98\\xea\\xb2\\xbd\\xeb\\xb6\\x80</bnm><busiNm>\\xed\\x99\\x98\\xea\\xb2\\xbd\\xeb'\n",
            " b'\\xb6\\x80</busiNm><busiCall>1661-9408</busiCall><stat>9</stat><statUpdDt>20'\n",
            " b'210910095810</statUpdDt><lastTsdt>20210906110648</lastTsdt><lastTedt>2021090'\n",
            " b'6113812</lastTedt><nowTsdt></nowTsdt><powerType></powerType><output>50</outp'\n",
            " b'ut><method>\\xeb\\x8b\\xa8\\xeb\\x8f\\x85</method><zcode>41</zcode><parkingFree>'\n",
            " b'N</parkingFree><note></note><limitYn>N</limitYn><limitDetail></limitDetail><'\n",
            " b'delYn>N</delYn><delDetail></delDetail></item><item><statNm>\\xec'\n",
            " b'\\x84\\xb1\\xeb\\x82\\xa8 \\xeb\\xa7\\x9b\\xea\\xb3\\xa0\\xec\\x9d\\x84 \\xec\\xa3\\xbc\\xec'\n",
            " b'\\xb0\\xa8\\xec\\x9e\\xa5</statNm><statId>ME000115</statId><chgerId>01</chgerId>'\n",
            " b'<chgerType>06</chgerType><addr>\\xea\\xb2\\xbd\\xea\\xb8\\xb0\\xeb\\x8f\\x84'\n",
            " b' \\xec\\x84\\xb1\\xeb\\x82\\xa8\\xec\\x8b\\x9c \\xeb\\xb6\\x84\\xeb\\x8b\\xb9\\xea\\xb5\\xac'\n",
            " b' \\xec\\x95\\xbc\\xed\\x83\\x91\\xeb\\xa1\\x9c 111\\xeb\\xb2\\x88\\xea\\xb8\\xb8 12-14</'\n",
            " b'addr><location>null</location><lat>37.4119752</lat><lng>127.1320774</lng><us'\n",
            " b'eTime></useTime><busiId>ME</busiId><bnm>\\xed\\x99\\x98\\xea\\xb2\\xbd\\xeb\\xb6'\n",
            " b'\\x80</bnm><busiNm>\\xed\\x99\\x98\\xea\\xb2\\xbd\\xeb\\xb6\\x80</busiNm><busiCall>1'\n",
            " b'661-9408</busiCall><stat>9</stat><statUpdDt>20211222092310</statUpdDt><lastT'\n",
            " b'sdt>20211218124136</lastTsdt><lastTedt>20211218132215</lastTedt><nowTsdt></n'\n",
            " b'owTsdt><powerType></powerType><output>50</output><method>\\xeb\\x8b\\xa8'\n",
            " b'\\xeb\\x8f\\x85</method><zcode>41</zcode><parkingFree>N</parkingFree><note><'\n",
            " b'/note><limitYn>N</limitYn><limitDetail></limitDetail><delYn>N</delYn><delDet'\n",
            " b'ail></delDetail></item><item><statNm>\\xed\\x95\\x98\\xeb\\x82\\x98\\xeb'\n",
            " b'\\xa1\\x9c\\xeb\\xa7\\x88\\xed\\x8a\\xb8 \\xec\\x84\\xb1\\xeb\\x82\\xa8\\xec\\xa0\\x90</stat'\n",
            " b'Nm><statId>ME000116</statId><chgerId>01</chgerId><chgerType>06</chgerType><a'\n",
            " b'ddr>\\xea\\xb2\\xbd\\xea\\xb8\\xb0\\xeb\\x8f\\x84 \\xec\\x84\\xb1\\xeb\\x82\\xa8'\n",
            " b'\\xec\\x8b\\x9c \\xeb\\xb6\\x84\\xeb\\x8b\\xb9\\xea\\xb5\\xac \\xec\\x84\\xb1\\xeb\\x82\\xa8'\n",
            " b'\\xeb\\x8c\\x80\\xeb\\xa1\\x9c 43\\xeb\\xb2\\x88\\xea\\xb8\\xb8 11 </addr><location>null'\n",
            " b'</location><lat>37.3378677</lat><lng>127.1086182</lng><useTime>2'\n",
            " b'4\\xec\\x8b\\x9c\\xea\\xb0\\x84 \\xec\\x9d\\xb4\\xec\\x9a\\xa9\\xea\\xb0\\x80\\xeb\\x8a\\xa5'\n",
            " b'</useTime><busiId>ME</busiId><bnm>\\xed\\x99\\x98\\xea\\xb2\\xbd\\xeb\\xb6\\x80</bnm'\n",
            " b'><busiNm>\\xed\\x99\\x98\\xea\\xb2\\xbd\\xeb\\xb6\\x80</busiNm><busiCall>1661-9408</'\n",
            " b'busiCall><stat>2</stat><statUpdDt>20211222060838</statUpdDt><lastTsdt>202112'\n",
            " b'22052753</lastTsdt><lastTedt>20211222060833</lastTedt><nowTsdt></nowTsdt><po'\n",
            " b'werType></powerType><output>50</output><method>\\xeb\\x8b\\xa8\\xeb\\x8f\\x85</m'\n",
            " b'ethod><zcode>41</zcode><parkingFree>N</parkingFree><note></note><limitYn>N</'\n",
            " b'limitYn><limitDetail></limitDetail><delYn>N</delYn><delDetail></delDetail></'\n",
            " b'item><item><statNm>\\xed\\x99\\x88\\xed\\x94\\x8c\\xeb\\x9f\\xac\\xec\\x8a\\xa4 '\n",
            " b'\\xec\\x9d\\x98\\xec\\xa0\\x95\\xeb\\xb6\\x80\\xec\\xa0\\x90</statNm><statId>ME000117</s'\n",
            " b'tatId><chgerId>01</chgerId><chgerType>03</chgerType><addr>\\xea\\xb2'\n",
            " b'\\xbd\\xea\\xb8\\xb0\\xeb\\x8f\\x84 \\xec\\x9d\\x98\\xec\\xa0\\x95\\xeb\\xb6'\n",
            " b'\\x80\\xec\\x8b\\x9c \\xec\\xb2\\xad\\xec\\x82\\xac\\xeb\\xa1\\x9c 38</addr><location>nu'\n",
            " b'll</location><lat>37.75264066</lat><lng>127.07132022</lng><useTime>10:00~23:'\n",
            " b'40</useTime><busiId>ME</busiId><bnm>\\xed\\x99\\x98\\xea\\xb2\\xbd\\xeb\\xb6\\x80</b'\n",
            " b'nm><busiNm>\\xed\\x99\\x98\\xea\\xb2\\xbd\\xeb\\xb6\\x80</busiNm><busiCall>1661-9408'\n",
            " b'</busiCall><stat>2</stat><statUpdDt>20211221105833</statUpdDt><lastTsdt>2021'\n",
            " b'1221101752</lastTsdt><lastTedt>20211221105837</lastTedt><nowTsdt></nowTsdt><'\n",
            " b'powerType></powerType><output>50</output><method>\\xeb\\x8b\\xa8\\xeb\\x8f\\x85<'\n",
            " b'/method><zcode>41</zcode><parkingFree>N</parkingFree><note></note><limitYn>N'\n",
            " b'</limitYn><limitDetail></limitDetail><delYn>N</delYn><delDetail></delDetail>'\n",
            " b'</item><item><statNm>\\xed\\x99\\x88\\xed\\x94\\x8c\\xeb\\x9f\\xac\\xec\\x8a'\n",
            " b'\\xa4 \\xec\\x95\\x88\\xec\\x96\\x91\\xec\\xa0\\x90</statNm><statId>ME000118</statId'\n",
            " b'><chgerId>01</chgerId><chgerType>03</chgerType><addr>\\xea\\xb2\\xbd'\n",
            " b'\\xea\\xb8\\xb0\\xeb\\x8f\\x84 \\xec\\x95\\x88\\xec\\x96\\x91\\xec\\x8b\\x9c \\xeb\\x8f\\x99'\n",
            " b'\\xec\\x95\\x88\\xea\\xb5\\xac \\xec\\x97\\x98\\xec\\x97\\x90\\xec\\x8a\\xa4\\xeb\\xa1\\x9c '\n",
            " b'92</addr><location>null</location><lat>37.370042</lat><lng>126.953179</lng><'\n",
            " b'useTime>09:00~24:00</useTime><busiId>ME</busiId><bnm>\\xed\\x99\\x98'\n",
            " b'\\xea\\xb2\\xbd\\xeb\\xb6\\x80</bnm><busiNm>\\xed\\x99\\x98\\xea\\xb2\\xbd\\xeb\\xb6'\n",
            " b'\\x80</busiNm><busiCall>1661-9408</busiCall><stat>2</stat><statUpdDt>2021122'\n",
            " b'1170406</statUpdDt><lastTsdt>20211221163251</lastTsdt><lastTedt>202112211704'\n",
            " b'09</lastTedt><nowTsdt></nowTsdt><powerType></powerType><output>50</output><m'\n",
            " b'ethod>\\xeb\\x8b\\xa8\\xeb\\x8f\\x85</method><zcode>41</zcode><parkingFree>N</pa'\n",
            " b'rkingFree><note></note><limitYn>N</limitYn><limitDetail></limitDetail><delYn'\n",
            " b'>N</delYn><delDetail></delDetail></item><item><statNm>\\xec\\x95'\n",
            " b'\\x88\\xec\\x96\\x91\\xec\\x8b\\x9c\\xec\\xb2\\xad</statNm><statId>ME000119</statId>'\n",
            " b'<chgerId>01</chgerId><chgerType>06</chgerType><addr>\\xea\\xb2\\xbd\\xea'\n",
            " b'\\xb8\\xb0\\xeb\\x8f\\x84 \\xec\\x95\\x88\\xec\\x96\\x91\\xec\\x8b\\x9c \\xeb\\x8f\\x99\\xec'\n",
            " b'\\x95\\x88\\xea\\xb5\\xac \\xea\\xb4\\x80\\xec\\x95\\x99\\xeb\\x8f\\x99 1590</addr><loca'\n",
            " b'tion>null</location><lat>37.394966</lat><lng>126.957851</lng><useTime>24'\n",
            " b'\\xec\\x8b\\x9c\\xea\\xb0\\x84 \\xec\\x9d\\xb4\\xec\\x9a\\xa9\\xea\\xb0\\x80\\xeb\\x8a\\xa5<'\n",
            " b'/useTime><busiId>ME</busiId><bnm>\\xed\\x99\\x98\\xea\\xb2\\xbd\\xeb\\xb6\\x80</bnm>'\n",
            " b'<busiNm>\\xed\\x99\\x98\\xea\\xb2\\xbd\\xeb\\xb6\\x80</busiNm><busiCall>1661-9408</b'\n",
            " b'usiCall><stat>9</stat><statUpdDt>20211222011310</statUpdDt><lastTsdt>2021122'\n",
            " b'2003155</lastTsdt><lastTedt>20211222004230</lastTedt><nowTsdt></nowTsdt><pow'\n",
            " b'erType></powerType><output>50</output><method>\\xeb\\x8b\\xa8\\xeb\\x8f\\x85</me'\n",
            " b'thod><zcode>41</zcode><parkingFree>N</parkingFree><note></note><limitYn>N</l'\n",
            " b'imitYn><limitDetail></limitDetail><delYn>N</delYn><delDetail></delDetail></i'\n",
            " b'tem><item><statNm>\\xec\\x9d\\xb4\\xeb\\xa7\\x88\\xed\\x8a\\xb8 \\xec\\xa4\\x91\\xeb'\n",
            " b'\\x8f\\x99\\xec\\xa0\\x90</statNm><statId>ME000120</statId><chgerId>01</chgerId>'\n",
            " b'<chgerType>03</chgerType><addr>\\xea\\xb2\\xbd\\xea\\xb8\\xb0\\xeb\\x8f\\x84'\n",
            " b' \\xeb\\xb6\\x80\\xec\\xb2\\x9c\\xec\\x8b\\x9c \\xec\\x9b\\x90\\xeb\\xaf\\xb8\\xea\\xb5\\xac'\n",
            " b' \\xec\\x84\\x9d\\xec\\xb2\\x9c\\xeb\\xa1\\x9c 188</addr><location>null</location><l'\n",
            " b'at>37.50395069</lat><lng>126.76409287</lng><useTime>10:00~24:00</useTime><bu'\n",
            " b'siId>ME</busiId><bnm>\\xed\\x99\\x98\\xea\\xb2\\xbd\\xeb\\xb6\\x80</bnm><busiNm>'\n",
            " b'\\xed\\x99\\x98\\xea\\xb2\\xbd\\xeb\\xb6\\x80</busiNm><busiCall>1661-9408</busiCall>'\n",
            " b'<stat>9</stat><statUpdDt>20211124162310</statUpdDt><lastTsdt>20211018113644<'\n",
            " b'/lastTsdt><lastTedt>20211018113856</lastTedt><nowTsdt></nowTsdt><powerType><'\n",
            " b'/powerType><output>50</output><method>\\xeb\\x8b\\xa8\\xeb\\x8f\\x85</method><zc'\n",
            " b'ode>41</zcode><parkingFree>N</parkingFree><note></note><limitYn>N</limitYn><'\n",
            " b'limitDetail></limitDetail><delYn>N</delYn><delDetail></delDetail></item></it'\n",
            " b'ems></body></response>')\n",
            "None\n"
          ]
        }
      ]
    },
    {
      "cell_type": "code",
      "source": [
        "import bs4\n",
        "xmlobj = bs4.BeautifulSoup(response, 'lxml-xml')\n",
        "rows = xmlobj.findAll('item')\n",
        "rows"
      ],
      "metadata": {
        "colab": {
          "base_uri": "https://localhost:8080/"
        },
        "id": "m35KoTDdCIa4",
        "outputId": "bccaf99f-ff6b-4fb6-e658-519b9c682e62"
      },
      "execution_count": 11,
      "outputs": [
        {
          "output_type": "execute_result",
          "data": {
            "text/plain": [
              "[<item><statNm>이마트 성남점</statNm><statId>ME000111</statId><chgerId>01</chgerId><chgerType>03</chgerType><addr>경기도 성남시 수정구 수정로 201</addr><location>null</location><lat>37.44396711</lat><lng>127.14108755</lng><useTime>10:00~22:00</useTime><busiId>ME</busiId><bnm>환경부</bnm><busiNm>환경부</busiNm><busiCall>1661-9408</busiCall><stat>9</stat><statUpdDt>20211019144810</statUpdDt><lastTsdt>20210824130038</lastTsdt><lastTedt>20210824132425</lastTedt><nowTsdt/><powerType/><output>50</output><method>단독</method><zcode>41</zcode><parkingFree>N</parkingFree><note/><limitYn>N</limitYn><limitDetail/><delYn>N</delYn><delDetail/></item>,\n",
              " <item><statNm>성남시청</statNm><statId>ME000112</statId><chgerId>01</chgerId><chgerType>06</chgerType><addr>경기도 성남시 중원구 성남대로 997</addr><location>null</location><lat>37.420017</lat><lng>127.126649</lng><useTime>24시간 이용가능</useTime><busiId>ME</busiId><bnm>환경부</bnm><busiNm>환경부</busiNm><busiCall>1661-9408</busiCall><stat>9</stat><statUpdDt>20210910095810</statUpdDt><lastTsdt>20210901145835</lastTsdt><lastTedt>20210901153842</lastTedt><nowTsdt/><powerType/><output>50</output><method>단독</method><zcode>41</zcode><parkingFree>N</parkingFree><note/><limitYn>N</limitYn><limitDetail/><delYn>N</delYn><delDetail/></item>,\n",
              " <item><statNm>동양컴퓨터학원 앞(공중전화부스)</statNm><statId>ME000113</statId><chgerId>01</chgerId><chgerType>06</chgerType><addr>경기도 성남시 중원구 중앙동 1175</addr><location>null</location><lat>37.4398788</lat><lng>127.1455762</lng><useTime>24시간 이용가능</useTime><busiId>ME</busiId><bnm>환경부</bnm><busiNm>환경부</busiNm><busiCall>1661-9408</busiCall><stat>3</stat><statUpdDt>20211222111026</statUpdDt><lastTsdt>20211222102600</lastTsdt><lastTedt>20211222104540</lastTedt><nowTsdt>20211222110948</nowTsdt><powerType/><output>50</output><method>단독</method><zcode>41</zcode><parkingFree>N</parkingFree><note/><limitYn>N</limitYn><limitDetail/><delYn>N</delYn><delDetail/></item>,\n",
              " <item><statNm>율동자연공원 B주차장</statNm><statId>ME000114</statId><chgerId>01</chgerId><chgerType>06</chgerType><addr>경기도 성남시 분당구 서현로 459</addr><location>null</location><lat>37.372759</lat><lng>127.147019</lng><useTime>24시간 이용가능</useTime><busiId>ME</busiId><bnm>환경부</bnm><busiNm>환경부</busiNm><busiCall>1661-9408</busiCall><stat>9</stat><statUpdDt>20210910095810</statUpdDt><lastTsdt>20210906110648</lastTsdt><lastTedt>20210906113812</lastTedt><nowTsdt/><powerType/><output>50</output><method>단독</method><zcode>41</zcode><parkingFree>N</parkingFree><note/><limitYn>N</limitYn><limitDetail/><delYn>N</delYn><delDetail/></item>,\n",
              " <item><statNm>성남 맛고을 주차장</statNm><statId>ME000115</statId><chgerId>01</chgerId><chgerType>06</chgerType><addr>경기도 성남시 분당구 야탑로 111번길 12-14</addr><location>null</location><lat>37.4119752</lat><lng>127.1320774</lng><useTime/><busiId>ME</busiId><bnm>환경부</bnm><busiNm>환경부</busiNm><busiCall>1661-9408</busiCall><stat>9</stat><statUpdDt>20211222092310</statUpdDt><lastTsdt>20211218124136</lastTsdt><lastTedt>20211218132215</lastTedt><nowTsdt/><powerType/><output>50</output><method>단독</method><zcode>41</zcode><parkingFree>N</parkingFree><note/><limitYn>N</limitYn><limitDetail/><delYn>N</delYn><delDetail/></item>,\n",
              " <item><statNm>하나로마트 성남점</statNm><statId>ME000116</statId><chgerId>01</chgerId><chgerType>06</chgerType><addr>경기도 성남시 분당구 성남대로 43번길 11 </addr><location>null</location><lat>37.3378677</lat><lng>127.1086182</lng><useTime>24시간 이용가능</useTime><busiId>ME</busiId><bnm>환경부</bnm><busiNm>환경부</busiNm><busiCall>1661-9408</busiCall><stat>2</stat><statUpdDt>20211222060838</statUpdDt><lastTsdt>20211222052753</lastTsdt><lastTedt>20211222060833</lastTedt><nowTsdt/><powerType/><output>50</output><method>단독</method><zcode>41</zcode><parkingFree>N</parkingFree><note/><limitYn>N</limitYn><limitDetail/><delYn>N</delYn><delDetail/></item>,\n",
              " <item><statNm>홈플러스 의정부점</statNm><statId>ME000117</statId><chgerId>01</chgerId><chgerType>03</chgerType><addr>경기도 의정부시 청사로 38</addr><location>null</location><lat>37.75264066</lat><lng>127.07132022</lng><useTime>10:00~23:40</useTime><busiId>ME</busiId><bnm>환경부</bnm><busiNm>환경부</busiNm><busiCall>1661-9408</busiCall><stat>2</stat><statUpdDt>20211221105833</statUpdDt><lastTsdt>20211221101752</lastTsdt><lastTedt>20211221105837</lastTedt><nowTsdt/><powerType/><output>50</output><method>단독</method><zcode>41</zcode><parkingFree>N</parkingFree><note/><limitYn>N</limitYn><limitDetail/><delYn>N</delYn><delDetail/></item>,\n",
              " <item><statNm>홈플러스 안양점</statNm><statId>ME000118</statId><chgerId>01</chgerId><chgerType>03</chgerType><addr>경기도 안양시 동안구 엘에스로 92</addr><location>null</location><lat>37.370042</lat><lng>126.953179</lng><useTime>09:00~24:00</useTime><busiId>ME</busiId><bnm>환경부</bnm><busiNm>환경부</busiNm><busiCall>1661-9408</busiCall><stat>2</stat><statUpdDt>20211221170406</statUpdDt><lastTsdt>20211221163251</lastTsdt><lastTedt>20211221170409</lastTedt><nowTsdt/><powerType/><output>50</output><method>단독</method><zcode>41</zcode><parkingFree>N</parkingFree><note/><limitYn>N</limitYn><limitDetail/><delYn>N</delYn><delDetail/></item>,\n",
              " <item><statNm>안양시청</statNm><statId>ME000119</statId><chgerId>01</chgerId><chgerType>06</chgerType><addr>경기도 안양시 동안구 관앙동 1590</addr><location>null</location><lat>37.394966</lat><lng>126.957851</lng><useTime>24시간 이용가능</useTime><busiId>ME</busiId><bnm>환경부</bnm><busiNm>환경부</busiNm><busiCall>1661-9408</busiCall><stat>9</stat><statUpdDt>20211222011310</statUpdDt><lastTsdt>20211222003155</lastTsdt><lastTedt>20211222004230</lastTedt><nowTsdt/><powerType/><output>50</output><method>단독</method><zcode>41</zcode><parkingFree>N</parkingFree><note/><limitYn>N</limitYn><limitDetail/><delYn>N</delYn><delDetail/></item>,\n",
              " <item><statNm>이마트 중동점</statNm><statId>ME000120</statId><chgerId>01</chgerId><chgerType>03</chgerType><addr>경기도 부천시 원미구 석천로 188</addr><location>null</location><lat>37.50395069</lat><lng>126.76409287</lng><useTime>10:00~24:00</useTime><busiId>ME</busiId><bnm>환경부</bnm><busiNm>환경부</busiNm><busiCall>1661-9408</busiCall><stat>9</stat><statUpdDt>20211124162310</statUpdDt><lastTsdt>20211018113644</lastTsdt><lastTedt>20211018113856</lastTedt><nowTsdt/><powerType/><output>50</output><method>단독</method><zcode>41</zcode><parkingFree>N</parkingFree><note/><limitYn>N</limitYn><limitDetail/><delYn>N</delYn><delDetail/></item>]"
            ]
          },
          "metadata": {},
          "execution_count": 11
        }
      ]
    },
    {
      "cell_type": "code",
      "source": [
        "rows[0]"
      ],
      "metadata": {
        "colab": {
          "base_uri": "https://localhost:8080/"
        },
        "id": "6iqS5dhPDbFC",
        "outputId": "0ab5c88e-b79d-4c7a-bb94-cf52d98f1611"
      },
      "execution_count": 12,
      "outputs": [
        {
          "output_type": "execute_result",
          "data": {
            "text/plain": [
              "<item><statNm>이마트 성남점</statNm><statId>ME000111</statId><chgerId>01</chgerId><chgerType>03</chgerType><addr>경기도 성남시 수정구 수정로 201</addr><location>null</location><lat>37.44396711</lat><lng>127.14108755</lng><useTime>10:00~22:00</useTime><busiId>ME</busiId><bnm>환경부</bnm><busiNm>환경부</busiNm><busiCall>1661-9408</busiCall><stat>9</stat><statUpdDt>20211019144810</statUpdDt><lastTsdt>20210824130038</lastTsdt><lastTedt>20210824132425</lastTedt><nowTsdt/><powerType/><output>50</output><method>단독</method><zcode>41</zcode><parkingFree>N</parkingFree><note/><limitYn>N</limitYn><limitDetail/><delYn>N</delYn><delDetail/></item>"
            ]
          },
          "metadata": {},
          "execution_count": 12
        }
      ]
    },
    {
      "cell_type": "code",
      "source": [
        "columns = rows[0].find_all()\n",
        "columns"
      ],
      "metadata": {
        "colab": {
          "base_uri": "https://localhost:8080/"
        },
        "id": "u9YIct3_DrZx",
        "outputId": "515666ed-aca8-4fc2-ef2c-4cb22293aedd"
      },
      "execution_count": 13,
      "outputs": [
        {
          "output_type": "execute_result",
          "data": {
            "text/plain": [
              "[<statNm>이마트 성남점</statNm>,\n",
              " <statId>ME000111</statId>,\n",
              " <chgerId>01</chgerId>,\n",
              " <chgerType>03</chgerType>,\n",
              " <addr>경기도 성남시 수정구 수정로 201</addr>,\n",
              " <location>null</location>,\n",
              " <lat>37.44396711</lat>,\n",
              " <lng>127.14108755</lng>,\n",
              " <useTime>10:00~22:00</useTime>,\n",
              " <busiId>ME</busiId>,\n",
              " <bnm>환경부</bnm>,\n",
              " <busiNm>환경부</busiNm>,\n",
              " <busiCall>1661-9408</busiCall>,\n",
              " <stat>9</stat>,\n",
              " <statUpdDt>20211019144810</statUpdDt>,\n",
              " <lastTsdt>20210824130038</lastTsdt>,\n",
              " <lastTedt>20210824132425</lastTedt>,\n",
              " <nowTsdt/>,\n",
              " <powerType/>,\n",
              " <output>50</output>,\n",
              " <method>단독</method>,\n",
              " <zcode>41</zcode>,\n",
              " <parkingFree>N</parkingFree>,\n",
              " <note/>,\n",
              " <limitYn>N</limitYn>,\n",
              " <limitDetail/>,\n",
              " <delYn>N</delYn>,\n",
              " <delDetail/>]"
            ]
          },
          "metadata": {},
          "execution_count": 13
        }
      ]
    },
    {
      "cell_type": "code",
      "source": [
        "import pandas as pd\n",
        "#데이터 프레임으로 변환\n",
        "rowList = []\n",
        "nameList = []\n",
        "columnList = []\n",
        "\n",
        "rowsLen = len(rows)\n",
        "for i in range(0, rowsLen):\n",
        "    columns = rows[i].find_all()\n",
        "    \n",
        "    columnsLen = len(columns)\n",
        "    for j in range(0, columnsLen):\n",
        "        # 첫 번째 행 데이터 값 수집 시에만 컬럼 값을 저장한다. (어차피 rows[0], rows[1], ... 모두 컬럼헤더는 동일한 값을 가지기 때문에 매번 반복할 필요가 없다.)\n",
        "        if i == 0:\n",
        "            nameList.append(columns[j].name)\n",
        "        # 컬럼값은 모든 행의 값을 저장해야한다.    \n",
        "        eachColumn = columns[j].text\n",
        "        columnList.append(eachColumn)\n",
        "    rowList.append(columnList)\n",
        "    columnList = []    # 다음 row의 값을 넣기 위해 비워준다. (매우 중요!!)\n",
        "    \n",
        "result = pd.DataFrame(rowList, columns=nameList)\n",
        "nameList = ['statNm', 'chgerType', 'addr', 'lat', 'lng', 'useTime','busiCall']\n",
        "result = result[nameList]\n",
        "result"
      ],
      "metadata": {
        "colab": {
          "base_uri": "https://localhost:8080/",
          "height": 363
        },
        "id": "0SHvv3mzD84c",
        "outputId": "e98a3e53-7126-4574-974a-478707b727ae"
      },
      "execution_count": 14,
      "outputs": [
        {
          "output_type": "execute_result",
          "data": {
            "text/html": [
              "<div>\n",
              "<style scoped>\n",
              "    .dataframe tbody tr th:only-of-type {\n",
              "        vertical-align: middle;\n",
              "    }\n",
              "\n",
              "    .dataframe tbody tr th {\n",
              "        vertical-align: top;\n",
              "    }\n",
              "\n",
              "    .dataframe thead th {\n",
              "        text-align: right;\n",
              "    }\n",
              "</style>\n",
              "<table border=\"1\" class=\"dataframe\">\n",
              "  <thead>\n",
              "    <tr style=\"text-align: right;\">\n",
              "      <th></th>\n",
              "      <th>statNm</th>\n",
              "      <th>chgerType</th>\n",
              "      <th>addr</th>\n",
              "      <th>lat</th>\n",
              "      <th>lng</th>\n",
              "      <th>useTime</th>\n",
              "      <th>busiCall</th>\n",
              "    </tr>\n",
              "  </thead>\n",
              "  <tbody>\n",
              "    <tr>\n",
              "      <th>0</th>\n",
              "      <td>이마트 성남점</td>\n",
              "      <td>03</td>\n",
              "      <td>경기도 성남시 수정구 수정로 201</td>\n",
              "      <td>37.44396711</td>\n",
              "      <td>127.14108755</td>\n",
              "      <td>10:00~22:00</td>\n",
              "      <td>1661-9408</td>\n",
              "    </tr>\n",
              "    <tr>\n",
              "      <th>1</th>\n",
              "      <td>성남시청</td>\n",
              "      <td>06</td>\n",
              "      <td>경기도 성남시 중원구 성남대로 997</td>\n",
              "      <td>37.420017</td>\n",
              "      <td>127.126649</td>\n",
              "      <td>24시간 이용가능</td>\n",
              "      <td>1661-9408</td>\n",
              "    </tr>\n",
              "    <tr>\n",
              "      <th>2</th>\n",
              "      <td>동양컴퓨터학원 앞(공중전화부스)</td>\n",
              "      <td>06</td>\n",
              "      <td>경기도 성남시 중원구 중앙동 1175</td>\n",
              "      <td>37.4398788</td>\n",
              "      <td>127.1455762</td>\n",
              "      <td>24시간 이용가능</td>\n",
              "      <td>1661-9408</td>\n",
              "    </tr>\n",
              "    <tr>\n",
              "      <th>3</th>\n",
              "      <td>율동자연공원 B주차장</td>\n",
              "      <td>06</td>\n",
              "      <td>경기도 성남시 분당구 서현로 459</td>\n",
              "      <td>37.372759</td>\n",
              "      <td>127.147019</td>\n",
              "      <td>24시간 이용가능</td>\n",
              "      <td>1661-9408</td>\n",
              "    </tr>\n",
              "    <tr>\n",
              "      <th>4</th>\n",
              "      <td>성남 맛고을 주차장</td>\n",
              "      <td>06</td>\n",
              "      <td>경기도 성남시 분당구 야탑로 111번길 12-14</td>\n",
              "      <td>37.4119752</td>\n",
              "      <td>127.1320774</td>\n",
              "      <td></td>\n",
              "      <td>1661-9408</td>\n",
              "    </tr>\n",
              "    <tr>\n",
              "      <th>5</th>\n",
              "      <td>하나로마트 성남점</td>\n",
              "      <td>06</td>\n",
              "      <td>경기도 성남시 분당구 성남대로 43번길 11</td>\n",
              "      <td>37.3378677</td>\n",
              "      <td>127.1086182</td>\n",
              "      <td>24시간 이용가능</td>\n",
              "      <td>1661-9408</td>\n",
              "    </tr>\n",
              "    <tr>\n",
              "      <th>6</th>\n",
              "      <td>홈플러스 의정부점</td>\n",
              "      <td>03</td>\n",
              "      <td>경기도 의정부시 청사로 38</td>\n",
              "      <td>37.75264066</td>\n",
              "      <td>127.07132022</td>\n",
              "      <td>10:00~23:40</td>\n",
              "      <td>1661-9408</td>\n",
              "    </tr>\n",
              "    <tr>\n",
              "      <th>7</th>\n",
              "      <td>홈플러스 안양점</td>\n",
              "      <td>03</td>\n",
              "      <td>경기도 안양시 동안구 엘에스로 92</td>\n",
              "      <td>37.370042</td>\n",
              "      <td>126.953179</td>\n",
              "      <td>09:00~24:00</td>\n",
              "      <td>1661-9408</td>\n",
              "    </tr>\n",
              "    <tr>\n",
              "      <th>8</th>\n",
              "      <td>안양시청</td>\n",
              "      <td>06</td>\n",
              "      <td>경기도 안양시 동안구 관앙동 1590</td>\n",
              "      <td>37.394966</td>\n",
              "      <td>126.957851</td>\n",
              "      <td>24시간 이용가능</td>\n",
              "      <td>1661-9408</td>\n",
              "    </tr>\n",
              "    <tr>\n",
              "      <th>9</th>\n",
              "      <td>이마트 중동점</td>\n",
              "      <td>03</td>\n",
              "      <td>경기도 부천시 원미구 석천로 188</td>\n",
              "      <td>37.50395069</td>\n",
              "      <td>126.76409287</td>\n",
              "      <td>10:00~24:00</td>\n",
              "      <td>1661-9408</td>\n",
              "    </tr>\n",
              "  </tbody>\n",
              "</table>\n",
              "</div>"
            ],
            "text/plain": [
              "              statNm chgerType  ...      useTime   busiCall\n",
              "0            이마트 성남점        03  ...  10:00~22:00  1661-9408\n",
              "1               성남시청        06  ...    24시간 이용가능  1661-9408\n",
              "2  동양컴퓨터학원 앞(공중전화부스)        06  ...    24시간 이용가능  1661-9408\n",
              "3        율동자연공원 B주차장        06  ...    24시간 이용가능  1661-9408\n",
              "4         성남 맛고을 주차장        06  ...               1661-9408\n",
              "5          하나로마트 성남점        06  ...    24시간 이용가능  1661-9408\n",
              "6          홈플러스 의정부점        03  ...  10:00~23:40  1661-9408\n",
              "7           홈플러스 안양점        03  ...  09:00~24:00  1661-9408\n",
              "8               안양시청        06  ...    24시간 이용가능  1661-9408\n",
              "9            이마트 중동점        03  ...  10:00~24:00  1661-9408\n",
              "\n",
              "[10 rows x 7 columns]"
            ]
          },
          "metadata": {},
          "execution_count": 14
        }
      ]
    },
    {
      "cell_type": "code",
      "source": [
        "#위도,경도 값을 사용할 수 있게 전처리\n",
        "result[['lat','lng']]=result[['lat','lng']].apply(pd.to_numeric)"
      ],
      "metadata": {
        "id": "1J0hYe6pUuCD"
      },
      "execution_count": 15,
      "outputs": []
    },
    {
      "cell_type": "code",
      "source": [
        "result.info()"
      ],
      "metadata": {
        "colab": {
          "base_uri": "https://localhost:8080/"
        },
        "id": "k_otbL-UUCQm",
        "outputId": "7ee821dd-c129-4a95-a363-097604c15763"
      },
      "execution_count": 32,
      "outputs": [
        {
          "output_type": "stream",
          "name": "stdout",
          "text": [
            "<class 'pandas.core.frame.DataFrame'>\n",
            "RangeIndex: 10 entries, 0 to 9\n",
            "Data columns (total 7 columns):\n",
            " #   Column     Non-Null Count  Dtype  \n",
            "---  ------     --------------  -----  \n",
            " 0   statNm     10 non-null     object \n",
            " 1   chgerType  10 non-null     object \n",
            " 2   addr       10 non-null     object \n",
            " 3   lat        10 non-null     float64\n",
            " 4   lng        10 non-null     float64\n",
            " 5   useTime    10 non-null     object \n",
            " 6   busiCall   10 non-null     object \n",
            "dtypes: float64(2), object(5)\n",
            "memory usage: 688.0+ bytes\n"
          ]
        }
      ]
    },
    {
      "cell_type": "markdown",
      "source": [
        "### 지도 데이터 불러오기"
      ],
      "metadata": {
        "id": "7GboymrEL5vb"
      }
    },
    {
      "cell_type": "code",
      "source": [
        "# from PyQt5 import QtWidgets, QtWebEngineWidgets\n",
        "# from PyQt5.QtGui import QIcon\n",
        "# from requests_html import HTMLSession\n",
        "from bs4 import BeautifulSoup as bs\n",
        "import numpy as np\n",
        "from datetime import datetime, timedelta\n",
        "from tqdm import tqdm\n",
        "import folium, json, sys, io\n",
        "from folium.plugins import MarkerCluster\n",
        "from math import sin, cos, atan2, sqrt, degrees, radians, pi\n",
        "from geopy.distance import great_circle as distance\n",
        "from geopy.point import Point\n",
        "import bs4\n",
        "import pandas as pd\n",
        "import requests"
      ],
      "metadata": {
        "id": "gxe7Jn-KRvD2"
      },
      "execution_count": 3,
      "outputs": []
    },
    {
      "cell_type": "code",
      "source": [
        "#@title\n",
        "#Folium 예시\n",
        "import folium\n",
        "from folium import plugins\n",
        "\n",
        "Lat = result.lat.mean()\n",
        "Long = result.lng.mean()\n",
        "\n",
        "map=folium.Map([Lat,Long],zoom_start=16)\n",
        "\n",
        "distribution_map=plugins.MarkerCluster().add_to(map)\n",
        "for lat,lon,label in zip(result.lat,result.lng,result['statNm']):\n",
        "    folium.Marker(location=[lat,lon],icon=None,popup=label).add_to(distribution_map)\n",
        "#map.add_child(distribution_map)\n",
        "\n",
        "map"
      ],
      "metadata": {
        "colab": {
          "base_uri": "https://localhost:8080/",
          "height": 808
        },
        "id": "7CCxwT_fRwFs",
        "outputId": "ee6fac35-a1ed-4a65-806b-7766cb728931"
      },
      "execution_count": 53,
      "outputs": [
        {
          "output_type": "execute_result",
          "data": {
            "text/html": [
              "<div style=\"width:100%;\"><div style=\"position:relative;width:100%;height:0;padding-bottom:60%;\"><span style=\"color:#565656\">Make this Notebook Trusted to load map: File -> Trust Notebook</span><iframe src=\"about:blank\" style=\"position:absolute;width:100%;height:100%;left:0;top:0;border:none !important;\" data-html=%3C%21DOCTYPE%20html%3E%0A%3Chead%3E%20%20%20%20%0A%20%20%20%20%3Cmeta%20http-equiv%3D%22content-type%22%20content%3D%22text/html%3B%20charset%3DUTF-8%22%20/%3E%0A%20%20%20%20%3Cscript%3EL_PREFER_CANVAS%3Dfalse%3B%20L_NO_TOUCH%3Dfalse%3B%20L_DISABLE_3D%3Dfalse%3B%3C/script%3E%0A%20%20%20%20%3Cscript%20src%3D%22https%3A//cdn.jsdelivr.net/npm/leaflet%401.4.0/dist/leaflet.js%22%3E%3C/script%3E%0A%20%20%20%20%3Cscript%20src%3D%22https%3A//code.jquery.com/jquery-1.12.4.min.js%22%3E%3C/script%3E%0A%20%20%20%20%3Cscript%20src%3D%22https%3A//maxcdn.bootstrapcdn.com/bootstrap/3.2.0/js/bootstrap.min.js%22%3E%3C/script%3E%0A%20%20%20%20%3Cscript%20src%3D%22https%3A//cdnjs.cloudflare.com/ajax/libs/Leaflet.awesome-markers/2.0.2/leaflet.awesome-markers.js%22%3E%3C/script%3E%0A%20%20%20%20%3Clink%20rel%3D%22stylesheet%22%20href%3D%22https%3A//cdn.jsdelivr.net/npm/leaflet%401.4.0/dist/leaflet.css%22/%3E%0A%20%20%20%20%3Clink%20rel%3D%22stylesheet%22%20href%3D%22https%3A//maxcdn.bootstrapcdn.com/bootstrap/3.2.0/css/bootstrap.min.css%22/%3E%0A%20%20%20%20%3Clink%20rel%3D%22stylesheet%22%20href%3D%22https%3A//maxcdn.bootstrapcdn.com/bootstrap/3.2.0/css/bootstrap-theme.min.css%22/%3E%0A%20%20%20%20%3Clink%20rel%3D%22stylesheet%22%20href%3D%22https%3A//maxcdn.bootstrapcdn.com/font-awesome/4.6.3/css/font-awesome.min.css%22/%3E%0A%20%20%20%20%3Clink%20rel%3D%22stylesheet%22%20href%3D%22https%3A//cdnjs.cloudflare.com/ajax/libs/Leaflet.awesome-markers/2.0.2/leaflet.awesome-markers.css%22/%3E%0A%20%20%20%20%3Clink%20rel%3D%22stylesheet%22%20href%3D%22https%3A//rawcdn.githack.com/python-visualization/folium/master/folium/templates/leaflet.awesome.rotate.css%22/%3E%0A%20%20%20%20%3Cstyle%3Ehtml%2C%20body%20%7Bwidth%3A%20100%25%3Bheight%3A%20100%25%3Bmargin%3A%200%3Bpadding%3A%200%3B%7D%3C/style%3E%0A%20%20%20%20%3Cstyle%3E%23map%20%7Bposition%3Aabsolute%3Btop%3A0%3Bbottom%3A0%3Bright%3A0%3Bleft%3A0%3B%7D%3C/style%3E%0A%20%20%20%20%0A%20%20%20%20%3Cmeta%20name%3D%22viewport%22%20content%3D%22width%3Ddevice-width%2C%0A%20%20%20%20%20%20%20%20initial-scale%3D1.0%2C%20maximum-scale%3D1.0%2C%20user-scalable%3Dno%22%20/%3E%0A%20%20%20%20%3Cstyle%3E%23map_fc475556b5504a768e4a7b36c4266c3b%20%7B%0A%20%20%20%20%20%20%20%20position%3A%20relative%3B%0A%20%20%20%20%20%20%20%20width%3A%20100.0%25%3B%0A%20%20%20%20%20%20%20%20height%3A%20100.0%25%3B%0A%20%20%20%20%20%20%20%20left%3A%200.0%25%3B%0A%20%20%20%20%20%20%20%20top%3A%200.0%25%3B%0A%20%20%20%20%20%20%20%20%7D%0A%20%20%20%20%3C/style%3E%0A%20%20%20%20%3Cscript%20src%3D%22https%3A//cdnjs.cloudflare.com/ajax/libs/leaflet.markercluster/1.1.0/leaflet.markercluster.js%22%3E%3C/script%3E%0A%20%20%20%20%3Clink%20rel%3D%22stylesheet%22%20href%3D%22https%3A//cdnjs.cloudflare.com/ajax/libs/leaflet.markercluster/1.1.0/MarkerCluster.css%22/%3E%0A%20%20%20%20%3Clink%20rel%3D%22stylesheet%22%20href%3D%22https%3A//cdnjs.cloudflare.com/ajax/libs/leaflet.markercluster/1.1.0/MarkerCluster.Default.css%22/%3E%0A%3C/head%3E%0A%3Cbody%3E%20%20%20%20%0A%20%20%20%20%0A%20%20%20%20%3Cdiv%20class%3D%22folium-map%22%20id%3D%22map_fc475556b5504a768e4a7b36c4266c3b%22%20%3E%3C/div%3E%0A%3C/body%3E%0A%3Cscript%3E%20%20%20%20%0A%20%20%20%20%0A%20%20%20%20%0A%20%20%20%20%20%20%20%20var%20bounds%20%3D%20null%3B%0A%20%20%20%20%0A%0A%20%20%20%20var%20map_fc475556b5504a768e4a7b36c4266c3b%20%3D%20L.map%28%0A%20%20%20%20%20%20%20%20%27map_fc475556b5504a768e4a7b36c4266c3b%27%2C%20%7B%0A%20%20%20%20%20%20%20%20center%3A%20%5B37.444806416%2C%20127.05474704400001%5D%2C%0A%20%20%20%20%20%20%20%20zoom%3A%2016%2C%0A%20%20%20%20%20%20%20%20maxBounds%3A%20bounds%2C%0A%20%20%20%20%20%20%20%20layers%3A%20%5B%5D%2C%0A%20%20%20%20%20%20%20%20worldCopyJump%3A%20false%2C%0A%20%20%20%20%20%20%20%20crs%3A%20L.CRS.EPSG3857%2C%0A%20%20%20%20%20%20%20%20zoomControl%3A%20true%2C%0A%20%20%20%20%20%20%20%20%7D%29%3B%0A%0A%0A%20%20%20%20%0A%20%20%20%20var%20tile_layer_f502d8fc3e944eadb32948dedfaac0ec%20%3D%20L.tileLayer%28%0A%20%20%20%20%20%20%20%20%27https%3A//%7Bs%7D.tile.openstreetmap.org/%7Bz%7D/%7Bx%7D/%7By%7D.png%27%2C%0A%20%20%20%20%20%20%20%20%7B%0A%20%20%20%20%20%20%20%20%22attribution%22%3A%20null%2C%0A%20%20%20%20%20%20%20%20%22detectRetina%22%3A%20false%2C%0A%20%20%20%20%20%20%20%20%22maxNativeZoom%22%3A%2018%2C%0A%20%20%20%20%20%20%20%20%22maxZoom%22%3A%2018%2C%0A%20%20%20%20%20%20%20%20%22minZoom%22%3A%200%2C%0A%20%20%20%20%20%20%20%20%22noWrap%22%3A%20false%2C%0A%20%20%20%20%20%20%20%20%22opacity%22%3A%201%2C%0A%20%20%20%20%20%20%20%20%22subdomains%22%3A%20%22abc%22%2C%0A%20%20%20%20%20%20%20%20%22tms%22%3A%20false%0A%7D%29.addTo%28map_fc475556b5504a768e4a7b36c4266c3b%29%3B%0A%20%20%20%20%0A%20%20%20%20%20%20%20%20%20%20%20%20var%20marker_cluster_3e6459cb2256489ea8df96b2e1514c79%20%3D%20L.markerClusterGroup%28%7B%7D%29%3B%0A%20%20%20%20%20%20%20%20%20%20%20%20map_fc475556b5504a768e4a7b36c4266c3b.addLayer%28marker_cluster_3e6459cb2256489ea8df96b2e1514c79%29%3B%0A%20%20%20%20%20%20%20%20%20%20%20%20%0A%20%20%20%20%0A%20%20%20%20%20%20%20%20var%20marker_69ffa91ff5504e3f99f4c95c667e1485%20%3D%20L.marker%28%0A%20%20%20%20%20%20%20%20%20%20%20%20%5B37.44396711%2C%20127.14108755%5D%2C%0A%20%20%20%20%20%20%20%20%20%20%20%20%7B%0A%20%20%20%20%20%20%20%20%20%20%20%20%20%20%20%20icon%3A%20new%20L.Icon.Default%28%29%2C%0A%20%20%20%20%20%20%20%20%20%20%20%20%20%20%20%20%7D%0A%20%20%20%20%20%20%20%20%20%20%20%20%29.addTo%28marker_cluster_3e6459cb2256489ea8df96b2e1514c79%29%3B%0A%20%20%20%20%20%20%20%20%0A%20%20%20%20%0A%20%20%20%20%20%20%20%20%20%20%20%20var%20popup_7f46e9e6bc544e738fac433dfb49d129%20%3D%20L.popup%28%7BmaxWidth%3A%20%27100%25%27%0A%20%20%20%20%20%20%20%20%20%20%20%20%0A%20%20%20%20%20%20%20%20%20%20%20%20%7D%29%3B%0A%0A%20%20%20%20%20%20%20%20%20%20%20%20%0A%20%20%20%20%20%20%20%20%20%20%20%20%20%20%20%20var%20html_448119009f8b40e2b21a5493ec8ead89%20%3D%20%24%28%60%3Cdiv%20id%3D%22html_448119009f8b40e2b21a5493ec8ead89%22%20style%3D%22width%3A%20100.0%25%3B%20height%3A%20100.0%25%3B%22%3E%EC%9D%B4%EB%A7%88%ED%8A%B8%20%EC%84%B1%EB%82%A8%EC%A0%90%3C/div%3E%60%29%5B0%5D%3B%0A%20%20%20%20%20%20%20%20%20%20%20%20%20%20%20%20popup_7f46e9e6bc544e738fac433dfb49d129.setContent%28html_448119009f8b40e2b21a5493ec8ead89%29%3B%0A%20%20%20%20%20%20%20%20%20%20%20%20%0A%0A%20%20%20%20%20%20%20%20%20%20%20%20marker_69ffa91ff5504e3f99f4c95c667e1485.bindPopup%28popup_7f46e9e6bc544e738fac433dfb49d129%29%0A%20%20%20%20%20%20%20%20%20%20%20%20%3B%0A%0A%20%20%20%20%20%20%20%20%20%20%20%20%0A%20%20%20%20%20%20%20%20%0A%20%20%20%20%0A%20%20%20%20%20%20%20%20var%20marker_742a5e786ae04181afee0e6610d29d72%20%3D%20L.marker%28%0A%20%20%20%20%20%20%20%20%20%20%20%20%5B37.420017%2C%20127.126649%5D%2C%0A%20%20%20%20%20%20%20%20%20%20%20%20%7B%0A%20%20%20%20%20%20%20%20%20%20%20%20%20%20%20%20icon%3A%20new%20L.Icon.Default%28%29%2C%0A%20%20%20%20%20%20%20%20%20%20%20%20%20%20%20%20%7D%0A%20%20%20%20%20%20%20%20%20%20%20%20%29.addTo%28marker_cluster_3e6459cb2256489ea8df96b2e1514c79%29%3B%0A%20%20%20%20%20%20%20%20%0A%20%20%20%20%0A%20%20%20%20%20%20%20%20%20%20%20%20var%20popup_800579edd4cc4103a6b8745302006a6f%20%3D%20L.popup%28%7BmaxWidth%3A%20%27100%25%27%0A%20%20%20%20%20%20%20%20%20%20%20%20%0A%20%20%20%20%20%20%20%20%20%20%20%20%7D%29%3B%0A%0A%20%20%20%20%20%20%20%20%20%20%20%20%0A%20%20%20%20%20%20%20%20%20%20%20%20%20%20%20%20var%20html_05cfedf9a7cb4bc59219f2f75070c370%20%3D%20%24%28%60%3Cdiv%20id%3D%22html_05cfedf9a7cb4bc59219f2f75070c370%22%20style%3D%22width%3A%20100.0%25%3B%20height%3A%20100.0%25%3B%22%3E%EC%84%B1%EB%82%A8%EC%8B%9C%EC%B2%AD%3C/div%3E%60%29%5B0%5D%3B%0A%20%20%20%20%20%20%20%20%20%20%20%20%20%20%20%20popup_800579edd4cc4103a6b8745302006a6f.setContent%28html_05cfedf9a7cb4bc59219f2f75070c370%29%3B%0A%20%20%20%20%20%20%20%20%20%20%20%20%0A%0A%20%20%20%20%20%20%20%20%20%20%20%20marker_742a5e786ae04181afee0e6610d29d72.bindPopup%28popup_800579edd4cc4103a6b8745302006a6f%29%0A%20%20%20%20%20%20%20%20%20%20%20%20%3B%0A%0A%20%20%20%20%20%20%20%20%20%20%20%20%0A%20%20%20%20%20%20%20%20%0A%20%20%20%20%0A%20%20%20%20%20%20%20%20var%20marker_587e0eb5210b4e10afdfbbd06220312f%20%3D%20L.marker%28%0A%20%20%20%20%20%20%20%20%20%20%20%20%5B37.439878799999995%2C%20127.14557620000001%5D%2C%0A%20%20%20%20%20%20%20%20%20%20%20%20%7B%0A%20%20%20%20%20%20%20%20%20%20%20%20%20%20%20%20icon%3A%20new%20L.Icon.Default%28%29%2C%0A%20%20%20%20%20%20%20%20%20%20%20%20%20%20%20%20%7D%0A%20%20%20%20%20%20%20%20%20%20%20%20%29.addTo%28marker_cluster_3e6459cb2256489ea8df96b2e1514c79%29%3B%0A%20%20%20%20%20%20%20%20%0A%20%20%20%20%0A%20%20%20%20%20%20%20%20%20%20%20%20var%20popup_26c59727963a4ce29d98c5241113fc82%20%3D%20L.popup%28%7BmaxWidth%3A%20%27100%25%27%0A%20%20%20%20%20%20%20%20%20%20%20%20%0A%20%20%20%20%20%20%20%20%20%20%20%20%7D%29%3B%0A%0A%20%20%20%20%20%20%20%20%20%20%20%20%0A%20%20%20%20%20%20%20%20%20%20%20%20%20%20%20%20var%20html_c8046ed123b64ea495cb0753ab03e73d%20%3D%20%24%28%60%3Cdiv%20id%3D%22html_c8046ed123b64ea495cb0753ab03e73d%22%20style%3D%22width%3A%20100.0%25%3B%20height%3A%20100.0%25%3B%22%3E%EB%8F%99%EC%96%91%EC%BB%B4%ED%93%A8%ED%84%B0%ED%95%99%EC%9B%90%20%EC%95%9E%28%EA%B3%B5%EC%A4%91%EC%A0%84%ED%99%94%EB%B6%80%EC%8A%A4%29%3C/div%3E%60%29%5B0%5D%3B%0A%20%20%20%20%20%20%20%20%20%20%20%20%20%20%20%20popup_26c59727963a4ce29d98c5241113fc82.setContent%28html_c8046ed123b64ea495cb0753ab03e73d%29%3B%0A%20%20%20%20%20%20%20%20%20%20%20%20%0A%0A%20%20%20%20%20%20%20%20%20%20%20%20marker_587e0eb5210b4e10afdfbbd06220312f.bindPopup%28popup_26c59727963a4ce29d98c5241113fc82%29%0A%20%20%20%20%20%20%20%20%20%20%20%20%3B%0A%0A%20%20%20%20%20%20%20%20%20%20%20%20%0A%20%20%20%20%20%20%20%20%0A%20%20%20%20%0A%20%20%20%20%20%20%20%20var%20marker_df275a6ea4914740a33b4e26a5a82ef4%20%3D%20L.marker%28%0A%20%20%20%20%20%20%20%20%20%20%20%20%5B37.372759%2C%20127.147019%5D%2C%0A%20%20%20%20%20%20%20%20%20%20%20%20%7B%0A%20%20%20%20%20%20%20%20%20%20%20%20%20%20%20%20icon%3A%20new%20L.Icon.Default%28%29%2C%0A%20%20%20%20%20%20%20%20%20%20%20%20%20%20%20%20%7D%0A%20%20%20%20%20%20%20%20%20%20%20%20%29.addTo%28marker_cluster_3e6459cb2256489ea8df96b2e1514c79%29%3B%0A%20%20%20%20%20%20%20%20%0A%20%20%20%20%0A%20%20%20%20%20%20%20%20%20%20%20%20var%20popup_5ccb508744064650b976283d950aa4ba%20%3D%20L.popup%28%7BmaxWidth%3A%20%27100%25%27%0A%20%20%20%20%20%20%20%20%20%20%20%20%0A%20%20%20%20%20%20%20%20%20%20%20%20%7D%29%3B%0A%0A%20%20%20%20%20%20%20%20%20%20%20%20%0A%20%20%20%20%20%20%20%20%20%20%20%20%20%20%20%20var%20html_dcb4c85ff5184bee962450e530fdad01%20%3D%20%24%28%60%3Cdiv%20id%3D%22html_dcb4c85ff5184bee962450e530fdad01%22%20style%3D%22width%3A%20100.0%25%3B%20height%3A%20100.0%25%3B%22%3E%EC%9C%A8%EB%8F%99%EC%9E%90%EC%97%B0%EA%B3%B5%EC%9B%90%20B%EC%A3%BC%EC%B0%A8%EC%9E%A5%3C/div%3E%60%29%5B0%5D%3B%0A%20%20%20%20%20%20%20%20%20%20%20%20%20%20%20%20popup_5ccb508744064650b976283d950aa4ba.setContent%28html_dcb4c85ff5184bee962450e530fdad01%29%3B%0A%20%20%20%20%20%20%20%20%20%20%20%20%0A%0A%20%20%20%20%20%20%20%20%20%20%20%20marker_df275a6ea4914740a33b4e26a5a82ef4.bindPopup%28popup_5ccb508744064650b976283d950aa4ba%29%0A%20%20%20%20%20%20%20%20%20%20%20%20%3B%0A%0A%20%20%20%20%20%20%20%20%20%20%20%20%0A%20%20%20%20%20%20%20%20%0A%20%20%20%20%0A%20%20%20%20%20%20%20%20var%20marker_75394bd62d7541908ac5e8121e4b1650%20%3D%20L.marker%28%0A%20%20%20%20%20%20%20%20%20%20%20%20%5B37.4119752%2C%20127.1320774%5D%2C%0A%20%20%20%20%20%20%20%20%20%20%20%20%7B%0A%20%20%20%20%20%20%20%20%20%20%20%20%20%20%20%20icon%3A%20new%20L.Icon.Default%28%29%2C%0A%20%20%20%20%20%20%20%20%20%20%20%20%20%20%20%20%7D%0A%20%20%20%20%20%20%20%20%20%20%20%20%29.addTo%28marker_cluster_3e6459cb2256489ea8df96b2e1514c79%29%3B%0A%20%20%20%20%20%20%20%20%0A%20%20%20%20%0A%20%20%20%20%20%20%20%20%20%20%20%20var%20popup_77c3f75c13a14b4198b3690ae4dc7508%20%3D%20L.popup%28%7BmaxWidth%3A%20%27100%25%27%0A%20%20%20%20%20%20%20%20%20%20%20%20%0A%20%20%20%20%20%20%20%20%20%20%20%20%7D%29%3B%0A%0A%20%20%20%20%20%20%20%20%20%20%20%20%0A%20%20%20%20%20%20%20%20%20%20%20%20%20%20%20%20var%20html_21c08f97f8d9452b80f628652f878d1e%20%3D%20%24%28%60%3Cdiv%20id%3D%22html_21c08f97f8d9452b80f628652f878d1e%22%20style%3D%22width%3A%20100.0%25%3B%20height%3A%20100.0%25%3B%22%3E%EC%84%B1%EB%82%A8%20%EB%A7%9B%EA%B3%A0%EC%9D%84%20%EC%A3%BC%EC%B0%A8%EC%9E%A5%3C/div%3E%60%29%5B0%5D%3B%0A%20%20%20%20%20%20%20%20%20%20%20%20%20%20%20%20popup_77c3f75c13a14b4198b3690ae4dc7508.setContent%28html_21c08f97f8d9452b80f628652f878d1e%29%3B%0A%20%20%20%20%20%20%20%20%20%20%20%20%0A%0A%20%20%20%20%20%20%20%20%20%20%20%20marker_75394bd62d7541908ac5e8121e4b1650.bindPopup%28popup_77c3f75c13a14b4198b3690ae4dc7508%29%0A%20%20%20%20%20%20%20%20%20%20%20%20%3B%0A%0A%20%20%20%20%20%20%20%20%20%20%20%20%0A%20%20%20%20%20%20%20%20%0A%20%20%20%20%0A%20%20%20%20%20%20%20%20var%20marker_6e39a926ef994a84a27447d870ae71d4%20%3D%20L.marker%28%0A%20%20%20%20%20%20%20%20%20%20%20%20%5B37.337867700000004%2C%20127.10861820000001%5D%2C%0A%20%20%20%20%20%20%20%20%20%20%20%20%7B%0A%20%20%20%20%20%20%20%20%20%20%20%20%20%20%20%20icon%3A%20new%20L.Icon.Default%28%29%2C%0A%20%20%20%20%20%20%20%20%20%20%20%20%20%20%20%20%7D%0A%20%20%20%20%20%20%20%20%20%20%20%20%29.addTo%28marker_cluster_3e6459cb2256489ea8df96b2e1514c79%29%3B%0A%20%20%20%20%20%20%20%20%0A%20%20%20%20%0A%20%20%20%20%20%20%20%20%20%20%20%20var%20popup_2dc92a5613ec4094a5493757a3a65b11%20%3D%20L.popup%28%7BmaxWidth%3A%20%27100%25%27%0A%20%20%20%20%20%20%20%20%20%20%20%20%0A%20%20%20%20%20%20%20%20%20%20%20%20%7D%29%3B%0A%0A%20%20%20%20%20%20%20%20%20%20%20%20%0A%20%20%20%20%20%20%20%20%20%20%20%20%20%20%20%20var%20html_22599830dfff45c1955927d66ee8e176%20%3D%20%24%28%60%3Cdiv%20id%3D%22html_22599830dfff45c1955927d66ee8e176%22%20style%3D%22width%3A%20100.0%25%3B%20height%3A%20100.0%25%3B%22%3E%ED%95%98%EB%82%98%EB%A1%9C%EB%A7%88%ED%8A%B8%20%EC%84%B1%EB%82%A8%EC%A0%90%3C/div%3E%60%29%5B0%5D%3B%0A%20%20%20%20%20%20%20%20%20%20%20%20%20%20%20%20popup_2dc92a5613ec4094a5493757a3a65b11.setContent%28html_22599830dfff45c1955927d66ee8e176%29%3B%0A%20%20%20%20%20%20%20%20%20%20%20%20%0A%0A%20%20%20%20%20%20%20%20%20%20%20%20marker_6e39a926ef994a84a27447d870ae71d4.bindPopup%28popup_2dc92a5613ec4094a5493757a3a65b11%29%0A%20%20%20%20%20%20%20%20%20%20%20%20%3B%0A%0A%20%20%20%20%20%20%20%20%20%20%20%20%0A%20%20%20%20%20%20%20%20%0A%20%20%20%20%0A%20%20%20%20%20%20%20%20var%20marker_11951e8235af43f1bd1b88baf645bb1b%20%3D%20L.marker%28%0A%20%20%20%20%20%20%20%20%20%20%20%20%5B37.75264066%2C%20127.07132022%5D%2C%0A%20%20%20%20%20%20%20%20%20%20%20%20%7B%0A%20%20%20%20%20%20%20%20%20%20%20%20%20%20%20%20icon%3A%20new%20L.Icon.Default%28%29%2C%0A%20%20%20%20%20%20%20%20%20%20%20%20%20%20%20%20%7D%0A%20%20%20%20%20%20%20%20%20%20%20%20%29.addTo%28marker_cluster_3e6459cb2256489ea8df96b2e1514c79%29%3B%0A%20%20%20%20%20%20%20%20%0A%20%20%20%20%0A%20%20%20%20%20%20%20%20%20%20%20%20var%20popup_10d62ae3f2cc45d2b66b9af95205872e%20%3D%20L.popup%28%7BmaxWidth%3A%20%27100%25%27%0A%20%20%20%20%20%20%20%20%20%20%20%20%0A%20%20%20%20%20%20%20%20%20%20%20%20%7D%29%3B%0A%0A%20%20%20%20%20%20%20%20%20%20%20%20%0A%20%20%20%20%20%20%20%20%20%20%20%20%20%20%20%20var%20html_3c08d1a4bbdc4eb8baf922a27cb7ae3c%20%3D%20%24%28%60%3Cdiv%20id%3D%22html_3c08d1a4bbdc4eb8baf922a27cb7ae3c%22%20style%3D%22width%3A%20100.0%25%3B%20height%3A%20100.0%25%3B%22%3E%ED%99%88%ED%94%8C%EB%9F%AC%EC%8A%A4%20%EC%9D%98%EC%A0%95%EB%B6%80%EC%A0%90%3C/div%3E%60%29%5B0%5D%3B%0A%20%20%20%20%20%20%20%20%20%20%20%20%20%20%20%20popup_10d62ae3f2cc45d2b66b9af95205872e.setContent%28html_3c08d1a4bbdc4eb8baf922a27cb7ae3c%29%3B%0A%20%20%20%20%20%20%20%20%20%20%20%20%0A%0A%20%20%20%20%20%20%20%20%20%20%20%20marker_11951e8235af43f1bd1b88baf645bb1b.bindPopup%28popup_10d62ae3f2cc45d2b66b9af95205872e%29%0A%20%20%20%20%20%20%20%20%20%20%20%20%3B%0A%0A%20%20%20%20%20%20%20%20%20%20%20%20%0A%20%20%20%20%20%20%20%20%0A%20%20%20%20%0A%20%20%20%20%20%20%20%20var%20marker_7d65b895d4e44dba96112af5bfa90bfd%20%3D%20L.marker%28%0A%20%20%20%20%20%20%20%20%20%20%20%20%5B37.370042%2C%20126.953179%5D%2C%0A%20%20%20%20%20%20%20%20%20%20%20%20%7B%0A%20%20%20%20%20%20%20%20%20%20%20%20%20%20%20%20icon%3A%20new%20L.Icon.Default%28%29%2C%0A%20%20%20%20%20%20%20%20%20%20%20%20%20%20%20%20%7D%0A%20%20%20%20%20%20%20%20%20%20%20%20%29.addTo%28marker_cluster_3e6459cb2256489ea8df96b2e1514c79%29%3B%0A%20%20%20%20%20%20%20%20%0A%20%20%20%20%0A%20%20%20%20%20%20%20%20%20%20%20%20var%20popup_511f80bc99e240b2ac11222b2e3851d4%20%3D%20L.popup%28%7BmaxWidth%3A%20%27100%25%27%0A%20%20%20%20%20%20%20%20%20%20%20%20%0A%20%20%20%20%20%20%20%20%20%20%20%20%7D%29%3B%0A%0A%20%20%20%20%20%20%20%20%20%20%20%20%0A%20%20%20%20%20%20%20%20%20%20%20%20%20%20%20%20var%20html_1a1fac5165b6449b8ff0950a28fac8a6%20%3D%20%24%28%60%3Cdiv%20id%3D%22html_1a1fac5165b6449b8ff0950a28fac8a6%22%20style%3D%22width%3A%20100.0%25%3B%20height%3A%20100.0%25%3B%22%3E%ED%99%88%ED%94%8C%EB%9F%AC%EC%8A%A4%20%EC%95%88%EC%96%91%EC%A0%90%3C/div%3E%60%29%5B0%5D%3B%0A%20%20%20%20%20%20%20%20%20%20%20%20%20%20%20%20popup_511f80bc99e240b2ac11222b2e3851d4.setContent%28html_1a1fac5165b6449b8ff0950a28fac8a6%29%3B%0A%20%20%20%20%20%20%20%20%20%20%20%20%0A%0A%20%20%20%20%20%20%20%20%20%20%20%20marker_7d65b895d4e44dba96112af5bfa90bfd.bindPopup%28popup_511f80bc99e240b2ac11222b2e3851d4%29%0A%20%20%20%20%20%20%20%20%20%20%20%20%3B%0A%0A%20%20%20%20%20%20%20%20%20%20%20%20%0A%20%20%20%20%20%20%20%20%0A%20%20%20%20%0A%20%20%20%20%20%20%20%20var%20marker_1cae189a986a4e38ad948289900df909%20%3D%20L.marker%28%0A%20%20%20%20%20%20%20%20%20%20%20%20%5B37.394966%2C%20126.957851%5D%2C%0A%20%20%20%20%20%20%20%20%20%20%20%20%7B%0A%20%20%20%20%20%20%20%20%20%20%20%20%20%20%20%20icon%3A%20new%20L.Icon.Default%28%29%2C%0A%20%20%20%20%20%20%20%20%20%20%20%20%20%20%20%20%7D%0A%20%20%20%20%20%20%20%20%20%20%20%20%29.addTo%28marker_cluster_3e6459cb2256489ea8df96b2e1514c79%29%3B%0A%20%20%20%20%20%20%20%20%0A%20%20%20%20%0A%20%20%20%20%20%20%20%20%20%20%20%20var%20popup_448f8cbafe2248538dc0e3debf9a9b6e%20%3D%20L.popup%28%7BmaxWidth%3A%20%27100%25%27%0A%20%20%20%20%20%20%20%20%20%20%20%20%0A%20%20%20%20%20%20%20%20%20%20%20%20%7D%29%3B%0A%0A%20%20%20%20%20%20%20%20%20%20%20%20%0A%20%20%20%20%20%20%20%20%20%20%20%20%20%20%20%20var%20html_f2a09884869d48e2a1e781d6cc92d9b6%20%3D%20%24%28%60%3Cdiv%20id%3D%22html_f2a09884869d48e2a1e781d6cc92d9b6%22%20style%3D%22width%3A%20100.0%25%3B%20height%3A%20100.0%25%3B%22%3E%EC%95%88%EC%96%91%EC%8B%9C%EC%B2%AD%3C/div%3E%60%29%5B0%5D%3B%0A%20%20%20%20%20%20%20%20%20%20%20%20%20%20%20%20popup_448f8cbafe2248538dc0e3debf9a9b6e.setContent%28html_f2a09884869d48e2a1e781d6cc92d9b6%29%3B%0A%20%20%20%20%20%20%20%20%20%20%20%20%0A%0A%20%20%20%20%20%20%20%20%20%20%20%20marker_1cae189a986a4e38ad948289900df909.bindPopup%28popup_448f8cbafe2248538dc0e3debf9a9b6e%29%0A%20%20%20%20%20%20%20%20%20%20%20%20%3B%0A%0A%20%20%20%20%20%20%20%20%20%20%20%20%0A%20%20%20%20%20%20%20%20%0A%20%20%20%20%0A%20%20%20%20%20%20%20%20var%20marker_5ba98534f6dc4cde9b8c28f31bbac4f5%20%3D%20L.marker%28%0A%20%20%20%20%20%20%20%20%20%20%20%20%5B37.50395069%2C%20126.76409287%5D%2C%0A%20%20%20%20%20%20%20%20%20%20%20%20%7B%0A%20%20%20%20%20%20%20%20%20%20%20%20%20%20%20%20icon%3A%20new%20L.Icon.Default%28%29%2C%0A%20%20%20%20%20%20%20%20%20%20%20%20%20%20%20%20%7D%0A%20%20%20%20%20%20%20%20%20%20%20%20%29.addTo%28marker_cluster_3e6459cb2256489ea8df96b2e1514c79%29%3B%0A%20%20%20%20%20%20%20%20%0A%20%20%20%20%0A%20%20%20%20%20%20%20%20%20%20%20%20var%20popup_564fa159d5184bde875d6bbec788c2a7%20%3D%20L.popup%28%7BmaxWidth%3A%20%27100%25%27%0A%20%20%20%20%20%20%20%20%20%20%20%20%0A%20%20%20%20%20%20%20%20%20%20%20%20%7D%29%3B%0A%0A%20%20%20%20%20%20%20%20%20%20%20%20%0A%20%20%20%20%20%20%20%20%20%20%20%20%20%20%20%20var%20html_19899611c0f748d48c973e0986d38b31%20%3D%20%24%28%60%3Cdiv%20id%3D%22html_19899611c0f748d48c973e0986d38b31%22%20style%3D%22width%3A%20100.0%25%3B%20height%3A%20100.0%25%3B%22%3E%EC%9D%B4%EB%A7%88%ED%8A%B8%20%EC%A4%91%EB%8F%99%EC%A0%90%3C/div%3E%60%29%5B0%5D%3B%0A%20%20%20%20%20%20%20%20%20%20%20%20%20%20%20%20popup_564fa159d5184bde875d6bbec788c2a7.setContent%28html_19899611c0f748d48c973e0986d38b31%29%3B%0A%20%20%20%20%20%20%20%20%20%20%20%20%0A%0A%20%20%20%20%20%20%20%20%20%20%20%20marker_5ba98534f6dc4cde9b8c28f31bbac4f5.bindPopup%28popup_564fa159d5184bde875d6bbec788c2a7%29%0A%20%20%20%20%20%20%20%20%20%20%20%20%3B%0A%0A%20%20%20%20%20%20%20%20%20%20%20%20%0A%20%20%20%20%20%20%20%20%0A%3C/script%3E onload=\"this.contentDocument.open();this.contentDocument.write(    decodeURIComponent(this.getAttribute('data-html')));this.contentDocument.close();\" allowfullscreen webkitallowfullscreen mozallowfullscreen></iframe></div></div>"
            ],
            "text/plain": [
              "<folium.folium.Map at 0x7efccf62b1d0>"
            ]
          },
          "metadata": {},
          "execution_count": 53
        }
      ]
    },
    {
      "cell_type": "code",
      "source": [
        "#전기차 충전소 정보를 통해 현재 사용가능한지 확인 및 위치 시각화\n",
        "#@title\n",
        "import folium\n",
        "from folium import plugins\n",
        "\n",
        "Lat = result.lat.mean()\n",
        "Long = result.lng.mean()\n",
        "\n",
        "map=folium.Map([Lat,Long],zoom_start=16)\n",
        "\n",
        "distribution_map=plugins.MarkerCluster().add_to(map)\n",
        "\n",
        "for lat,lon,label,usetime in zip(result.lat,result.lng,result['statNm'],result['useTime']):\n",
        "    if usetime[:2] == '24' or usetime == '':\n",
        "      folium.Marker(location=[lat,lon],icon=folium.Icon(color = 'green', icon = 'ok'),popup=label).add_to(distribution_map)\n",
        "    elif int(usetime.split('~')[0][:2]) <= datetime.now().hour+9 or int(usetime.split('~')[1][:2]) >= datetime.now().hour+9:\n",
        "      folium.Marker(location=[lat,lon],icon=folium.Icon(color = 'red', icon = 'ok'),popup=label).add_to(distribution_map)\n",
        "    else :\n",
        "      folium.Marker(location=[lat,lon],icon=folium.Icon(color = 'red', icon = 'ok'),popup=label).add_to(distribution_map)\n",
        "      \n",
        "map.add_child(distribution_map)\n",
        "\n",
        "map"
      ],
      "metadata": {
        "colab": {
          "base_uri": "https://localhost:8080/",
          "height": 808
        },
        "id": "FiGOThBwrbnh",
        "outputId": "5b61d307-8d8a-4f73-d02d-9a76b435f697"
      },
      "execution_count": 76,
      "outputs": [
        {
          "output_type": "execute_result",
          "data": {
            "text/html": [
              "<div style=\"width:100%;\"><div style=\"position:relative;width:100%;height:0;padding-bottom:60%;\"><span style=\"color:#565656\">Make this Notebook Trusted to load map: File -> Trust Notebook</span><iframe src=\"about:blank\" style=\"position:absolute;width:100%;height:100%;left:0;top:0;border:none !important;\" data-html=%3C%21DOCTYPE%20html%3E%0A%3Chead%3E%20%20%20%20%0A%20%20%20%20%3Cmeta%20http-equiv%3D%22content-type%22%20content%3D%22text/html%3B%20charset%3DUTF-8%22%20/%3E%0A%20%20%20%20%3Cscript%3EL_PREFER_CANVAS%3Dfalse%3B%20L_NO_TOUCH%3Dfalse%3B%20L_DISABLE_3D%3Dfalse%3B%3C/script%3E%0A%20%20%20%20%3Cscript%20src%3D%22https%3A//cdn.jsdelivr.net/npm/leaflet%401.4.0/dist/leaflet.js%22%3E%3C/script%3E%0A%20%20%20%20%3Cscript%20src%3D%22https%3A//code.jquery.com/jquery-1.12.4.min.js%22%3E%3C/script%3E%0A%20%20%20%20%3Cscript%20src%3D%22https%3A//maxcdn.bootstrapcdn.com/bootstrap/3.2.0/js/bootstrap.min.js%22%3E%3C/script%3E%0A%20%20%20%20%3Cscript%20src%3D%22https%3A//cdnjs.cloudflare.com/ajax/libs/Leaflet.awesome-markers/2.0.2/leaflet.awesome-markers.js%22%3E%3C/script%3E%0A%20%20%20%20%3Clink%20rel%3D%22stylesheet%22%20href%3D%22https%3A//cdn.jsdelivr.net/npm/leaflet%401.4.0/dist/leaflet.css%22/%3E%0A%20%20%20%20%3Clink%20rel%3D%22stylesheet%22%20href%3D%22https%3A//maxcdn.bootstrapcdn.com/bootstrap/3.2.0/css/bootstrap.min.css%22/%3E%0A%20%20%20%20%3Clink%20rel%3D%22stylesheet%22%20href%3D%22https%3A//maxcdn.bootstrapcdn.com/bootstrap/3.2.0/css/bootstrap-theme.min.css%22/%3E%0A%20%20%20%20%3Clink%20rel%3D%22stylesheet%22%20href%3D%22https%3A//maxcdn.bootstrapcdn.com/font-awesome/4.6.3/css/font-awesome.min.css%22/%3E%0A%20%20%20%20%3Clink%20rel%3D%22stylesheet%22%20href%3D%22https%3A//cdnjs.cloudflare.com/ajax/libs/Leaflet.awesome-markers/2.0.2/leaflet.awesome-markers.css%22/%3E%0A%20%20%20%20%3Clink%20rel%3D%22stylesheet%22%20href%3D%22https%3A//rawcdn.githack.com/python-visualization/folium/master/folium/templates/leaflet.awesome.rotate.css%22/%3E%0A%20%20%20%20%3Cstyle%3Ehtml%2C%20body%20%7Bwidth%3A%20100%25%3Bheight%3A%20100%25%3Bmargin%3A%200%3Bpadding%3A%200%3B%7D%3C/style%3E%0A%20%20%20%20%3Cstyle%3E%23map%20%7Bposition%3Aabsolute%3Btop%3A0%3Bbottom%3A0%3Bright%3A0%3Bleft%3A0%3B%7D%3C/style%3E%0A%20%20%20%20%0A%20%20%20%20%3Cmeta%20name%3D%22viewport%22%20content%3D%22width%3Ddevice-width%2C%0A%20%20%20%20%20%20%20%20initial-scale%3D1.0%2C%20maximum-scale%3D1.0%2C%20user-scalable%3Dno%22%20/%3E%0A%20%20%20%20%3Cstyle%3E%23map_b30c8bd84f2248c59e42e38517bfde25%20%7B%0A%20%20%20%20%20%20%20%20position%3A%20relative%3B%0A%20%20%20%20%20%20%20%20width%3A%20100.0%25%3B%0A%20%20%20%20%20%20%20%20height%3A%20100.0%25%3B%0A%20%20%20%20%20%20%20%20left%3A%200.0%25%3B%0A%20%20%20%20%20%20%20%20top%3A%200.0%25%3B%0A%20%20%20%20%20%20%20%20%7D%0A%20%20%20%20%3C/style%3E%0A%20%20%20%20%3Cscript%20src%3D%22https%3A//cdnjs.cloudflare.com/ajax/libs/leaflet.markercluster/1.1.0/leaflet.markercluster.js%22%3E%3C/script%3E%0A%20%20%20%20%3Clink%20rel%3D%22stylesheet%22%20href%3D%22https%3A//cdnjs.cloudflare.com/ajax/libs/leaflet.markercluster/1.1.0/MarkerCluster.css%22/%3E%0A%20%20%20%20%3Clink%20rel%3D%22stylesheet%22%20href%3D%22https%3A//cdnjs.cloudflare.com/ajax/libs/leaflet.markercluster/1.1.0/MarkerCluster.Default.css%22/%3E%0A%3C/head%3E%0A%3Cbody%3E%20%20%20%20%0A%20%20%20%20%0A%20%20%20%20%3Cdiv%20class%3D%22folium-map%22%20id%3D%22map_b30c8bd84f2248c59e42e38517bfde25%22%20%3E%3C/div%3E%0A%3C/body%3E%0A%3Cscript%3E%20%20%20%20%0A%20%20%20%20%0A%20%20%20%20%0A%20%20%20%20%20%20%20%20var%20bounds%20%3D%20null%3B%0A%20%20%20%20%0A%0A%20%20%20%20var%20map_b30c8bd84f2248c59e42e38517bfde25%20%3D%20L.map%28%0A%20%20%20%20%20%20%20%20%27map_b30c8bd84f2248c59e42e38517bfde25%27%2C%20%7B%0A%20%20%20%20%20%20%20%20center%3A%20%5B37.444806416%2C%20127.05474704400001%5D%2C%0A%20%20%20%20%20%20%20%20zoom%3A%2016%2C%0A%20%20%20%20%20%20%20%20maxBounds%3A%20bounds%2C%0A%20%20%20%20%20%20%20%20layers%3A%20%5B%5D%2C%0A%20%20%20%20%20%20%20%20worldCopyJump%3A%20false%2C%0A%20%20%20%20%20%20%20%20crs%3A%20L.CRS.EPSG3857%2C%0A%20%20%20%20%20%20%20%20zoomControl%3A%20true%2C%0A%20%20%20%20%20%20%20%20%7D%29%3B%0A%0A%0A%20%20%20%20%0A%20%20%20%20var%20tile_layer_2fc503ff5c89412b8148c3cb3cdda766%20%3D%20L.tileLayer%28%0A%20%20%20%20%20%20%20%20%27https%3A//%7Bs%7D.tile.openstreetmap.org/%7Bz%7D/%7Bx%7D/%7By%7D.png%27%2C%0A%20%20%20%20%20%20%20%20%7B%0A%20%20%20%20%20%20%20%20%22attribution%22%3A%20null%2C%0A%20%20%20%20%20%20%20%20%22detectRetina%22%3A%20false%2C%0A%20%20%20%20%20%20%20%20%22maxNativeZoom%22%3A%2018%2C%0A%20%20%20%20%20%20%20%20%22maxZoom%22%3A%2018%2C%0A%20%20%20%20%20%20%20%20%22minZoom%22%3A%200%2C%0A%20%20%20%20%20%20%20%20%22noWrap%22%3A%20false%2C%0A%20%20%20%20%20%20%20%20%22opacity%22%3A%201%2C%0A%20%20%20%20%20%20%20%20%22subdomains%22%3A%20%22abc%22%2C%0A%20%20%20%20%20%20%20%20%22tms%22%3A%20false%0A%7D%29.addTo%28map_b30c8bd84f2248c59e42e38517bfde25%29%3B%0A%20%20%20%20%0A%20%20%20%20%20%20%20%20%20%20%20%20var%20marker_cluster_28c8d3564e194997ba767b1c065e22a7%20%3D%20L.markerClusterGroup%28%7B%7D%29%3B%0A%20%20%20%20%20%20%20%20%20%20%20%20map_b30c8bd84f2248c59e42e38517bfde25.addLayer%28marker_cluster_28c8d3564e194997ba767b1c065e22a7%29%3B%0A%20%20%20%20%20%20%20%20%20%20%20%20%0A%20%20%20%20%0A%20%20%20%20%20%20%20%20var%20marker_b59c04666c1b47bd9f37a9b4e41fd038%20%3D%20L.marker%28%0A%20%20%20%20%20%20%20%20%20%20%20%20%5B37.44396711%2C%20127.14108755%5D%2C%0A%20%20%20%20%20%20%20%20%20%20%20%20%7B%0A%20%20%20%20%20%20%20%20%20%20%20%20%20%20%20%20icon%3A%20new%20L.Icon.Default%28%29%2C%0A%20%20%20%20%20%20%20%20%20%20%20%20%20%20%20%20%7D%0A%20%20%20%20%20%20%20%20%20%20%20%20%29.addTo%28marker_cluster_28c8d3564e194997ba767b1c065e22a7%29%3B%0A%20%20%20%20%20%20%20%20%0A%20%20%20%20%0A%0A%20%20%20%20%20%20%20%20%20%20%20%20%20%20%20%20var%20icon_50d74261ad144a4fb91899f137225829%20%3D%20L.AwesomeMarkers.icon%28%7B%0A%20%20%20%20%20%20%20%20%20%20%20%20%20%20%20%20%20%20%20%20icon%3A%20%27ok%27%2C%0A%20%20%20%20%20%20%20%20%20%20%20%20%20%20%20%20%20%20%20%20iconColor%3A%20%27white%27%2C%0A%20%20%20%20%20%20%20%20%20%20%20%20%20%20%20%20%20%20%20%20markerColor%3A%20%27red%27%2C%0A%20%20%20%20%20%20%20%20%20%20%20%20%20%20%20%20%20%20%20%20prefix%3A%20%27glyphicon%27%2C%0A%20%20%20%20%20%20%20%20%20%20%20%20%20%20%20%20%20%20%20%20extraClasses%3A%20%27fa-rotate-0%27%0A%20%20%20%20%20%20%20%20%20%20%20%20%20%20%20%20%20%20%20%20%7D%29%3B%0A%20%20%20%20%20%20%20%20%20%20%20%20%20%20%20%20marker_b59c04666c1b47bd9f37a9b4e41fd038.setIcon%28icon_50d74261ad144a4fb91899f137225829%29%3B%0A%20%20%20%20%20%20%20%20%20%20%20%20%0A%20%20%20%20%0A%20%20%20%20%20%20%20%20%20%20%20%20var%20popup_d9bde478c9d2430681bf6c7c58789cd3%20%3D%20L.popup%28%7BmaxWidth%3A%20%27100%25%27%0A%20%20%20%20%20%20%20%20%20%20%20%20%0A%20%20%20%20%20%20%20%20%20%20%20%20%7D%29%3B%0A%0A%20%20%20%20%20%20%20%20%20%20%20%20%0A%20%20%20%20%20%20%20%20%20%20%20%20%20%20%20%20var%20html_884ce92638ef4b29a22455187bc85e84%20%3D%20%24%28%60%3Cdiv%20id%3D%22html_884ce92638ef4b29a22455187bc85e84%22%20style%3D%22width%3A%20100.0%25%3B%20height%3A%20100.0%25%3B%22%3E%EC%9D%B4%EB%A7%88%ED%8A%B8%20%EC%84%B1%EB%82%A8%EC%A0%90%3C/div%3E%60%29%5B0%5D%3B%0A%20%20%20%20%20%20%20%20%20%20%20%20%20%20%20%20popup_d9bde478c9d2430681bf6c7c58789cd3.setContent%28html_884ce92638ef4b29a22455187bc85e84%29%3B%0A%20%20%20%20%20%20%20%20%20%20%20%20%0A%0A%20%20%20%20%20%20%20%20%20%20%20%20marker_b59c04666c1b47bd9f37a9b4e41fd038.bindPopup%28popup_d9bde478c9d2430681bf6c7c58789cd3%29%0A%20%20%20%20%20%20%20%20%20%20%20%20%3B%0A%0A%20%20%20%20%20%20%20%20%20%20%20%20%0A%20%20%20%20%20%20%20%20%0A%20%20%20%20%0A%20%20%20%20%20%20%20%20var%20marker_2f4b0c5824ac40fb951e4bd6fcf17915%20%3D%20L.marker%28%0A%20%20%20%20%20%20%20%20%20%20%20%20%5B37.420017%2C%20127.126649%5D%2C%0A%20%20%20%20%20%20%20%20%20%20%20%20%7B%0A%20%20%20%20%20%20%20%20%20%20%20%20%20%20%20%20icon%3A%20new%20L.Icon.Default%28%29%2C%0A%20%20%20%20%20%20%20%20%20%20%20%20%20%20%20%20%7D%0A%20%20%20%20%20%20%20%20%20%20%20%20%29.addTo%28marker_cluster_28c8d3564e194997ba767b1c065e22a7%29%3B%0A%20%20%20%20%20%20%20%20%0A%20%20%20%20%0A%0A%20%20%20%20%20%20%20%20%20%20%20%20%20%20%20%20var%20icon_c537286004fb4d03a23d5627d30c06f9%20%3D%20L.AwesomeMarkers.icon%28%7B%0A%20%20%20%20%20%20%20%20%20%20%20%20%20%20%20%20%20%20%20%20icon%3A%20%27ok%27%2C%0A%20%20%20%20%20%20%20%20%20%20%20%20%20%20%20%20%20%20%20%20iconColor%3A%20%27white%27%2C%0A%20%20%20%20%20%20%20%20%20%20%20%20%20%20%20%20%20%20%20%20markerColor%3A%20%27green%27%2C%0A%20%20%20%20%20%20%20%20%20%20%20%20%20%20%20%20%20%20%20%20prefix%3A%20%27glyphicon%27%2C%0A%20%20%20%20%20%20%20%20%20%20%20%20%20%20%20%20%20%20%20%20extraClasses%3A%20%27fa-rotate-0%27%0A%20%20%20%20%20%20%20%20%20%20%20%20%20%20%20%20%20%20%20%20%7D%29%3B%0A%20%20%20%20%20%20%20%20%20%20%20%20%20%20%20%20marker_2f4b0c5824ac40fb951e4bd6fcf17915.setIcon%28icon_c537286004fb4d03a23d5627d30c06f9%29%3B%0A%20%20%20%20%20%20%20%20%20%20%20%20%0A%20%20%20%20%0A%20%20%20%20%20%20%20%20%20%20%20%20var%20popup_2fb9d7c7575d4ba38f77874d06c2e8a5%20%3D%20L.popup%28%7BmaxWidth%3A%20%27100%25%27%0A%20%20%20%20%20%20%20%20%20%20%20%20%0A%20%20%20%20%20%20%20%20%20%20%20%20%7D%29%3B%0A%0A%20%20%20%20%20%20%20%20%20%20%20%20%0A%20%20%20%20%20%20%20%20%20%20%20%20%20%20%20%20var%20html_ad87012cf41543799db041abff8fa948%20%3D%20%24%28%60%3Cdiv%20id%3D%22html_ad87012cf41543799db041abff8fa948%22%20style%3D%22width%3A%20100.0%25%3B%20height%3A%20100.0%25%3B%22%3E%EC%84%B1%EB%82%A8%EC%8B%9C%EC%B2%AD%3C/div%3E%60%29%5B0%5D%3B%0A%20%20%20%20%20%20%20%20%20%20%20%20%20%20%20%20popup_2fb9d7c7575d4ba38f77874d06c2e8a5.setContent%28html_ad87012cf41543799db041abff8fa948%29%3B%0A%20%20%20%20%20%20%20%20%20%20%20%20%0A%0A%20%20%20%20%20%20%20%20%20%20%20%20marker_2f4b0c5824ac40fb951e4bd6fcf17915.bindPopup%28popup_2fb9d7c7575d4ba38f77874d06c2e8a5%29%0A%20%20%20%20%20%20%20%20%20%20%20%20%3B%0A%0A%20%20%20%20%20%20%20%20%20%20%20%20%0A%20%20%20%20%20%20%20%20%0A%20%20%20%20%0A%20%20%20%20%20%20%20%20var%20marker_0a19a31ede3c4fc18ac2b50a8223852b%20%3D%20L.marker%28%0A%20%20%20%20%20%20%20%20%20%20%20%20%5B37.439878799999995%2C%20127.14557620000001%5D%2C%0A%20%20%20%20%20%20%20%20%20%20%20%20%7B%0A%20%20%20%20%20%20%20%20%20%20%20%20%20%20%20%20icon%3A%20new%20L.Icon.Default%28%29%2C%0A%20%20%20%20%20%20%20%20%20%20%20%20%20%20%20%20%7D%0A%20%20%20%20%20%20%20%20%20%20%20%20%29.addTo%28marker_cluster_28c8d3564e194997ba767b1c065e22a7%29%3B%0A%20%20%20%20%20%20%20%20%0A%20%20%20%20%0A%0A%20%20%20%20%20%20%20%20%20%20%20%20%20%20%20%20var%20icon_d6e9307a2da5470a95bc6df9fe62ca4a%20%3D%20L.AwesomeMarkers.icon%28%7B%0A%20%20%20%20%20%20%20%20%20%20%20%20%20%20%20%20%20%20%20%20icon%3A%20%27ok%27%2C%0A%20%20%20%20%20%20%20%20%20%20%20%20%20%20%20%20%20%20%20%20iconColor%3A%20%27white%27%2C%0A%20%20%20%20%20%20%20%20%20%20%20%20%20%20%20%20%20%20%20%20markerColor%3A%20%27green%27%2C%0A%20%20%20%20%20%20%20%20%20%20%20%20%20%20%20%20%20%20%20%20prefix%3A%20%27glyphicon%27%2C%0A%20%20%20%20%20%20%20%20%20%20%20%20%20%20%20%20%20%20%20%20extraClasses%3A%20%27fa-rotate-0%27%0A%20%20%20%20%20%20%20%20%20%20%20%20%20%20%20%20%20%20%20%20%7D%29%3B%0A%20%20%20%20%20%20%20%20%20%20%20%20%20%20%20%20marker_0a19a31ede3c4fc18ac2b50a8223852b.setIcon%28icon_d6e9307a2da5470a95bc6df9fe62ca4a%29%3B%0A%20%20%20%20%20%20%20%20%20%20%20%20%0A%20%20%20%20%0A%20%20%20%20%20%20%20%20%20%20%20%20var%20popup_0a75ac52e0e748f98d81de43b7772b77%20%3D%20L.popup%28%7BmaxWidth%3A%20%27100%25%27%0A%20%20%20%20%20%20%20%20%20%20%20%20%0A%20%20%20%20%20%20%20%20%20%20%20%20%7D%29%3B%0A%0A%20%20%20%20%20%20%20%20%20%20%20%20%0A%20%20%20%20%20%20%20%20%20%20%20%20%20%20%20%20var%20html_de59200987f643bfba0920d818415493%20%3D%20%24%28%60%3Cdiv%20id%3D%22html_de59200987f643bfba0920d818415493%22%20style%3D%22width%3A%20100.0%25%3B%20height%3A%20100.0%25%3B%22%3E%EB%8F%99%EC%96%91%EC%BB%B4%ED%93%A8%ED%84%B0%ED%95%99%EC%9B%90%20%EC%95%9E%28%EA%B3%B5%EC%A4%91%EC%A0%84%ED%99%94%EB%B6%80%EC%8A%A4%29%3C/div%3E%60%29%5B0%5D%3B%0A%20%20%20%20%20%20%20%20%20%20%20%20%20%20%20%20popup_0a75ac52e0e748f98d81de43b7772b77.setContent%28html_de59200987f643bfba0920d818415493%29%3B%0A%20%20%20%20%20%20%20%20%20%20%20%20%0A%0A%20%20%20%20%20%20%20%20%20%20%20%20marker_0a19a31ede3c4fc18ac2b50a8223852b.bindPopup%28popup_0a75ac52e0e748f98d81de43b7772b77%29%0A%20%20%20%20%20%20%20%20%20%20%20%20%3B%0A%0A%20%20%20%20%20%20%20%20%20%20%20%20%0A%20%20%20%20%20%20%20%20%0A%20%20%20%20%0A%20%20%20%20%20%20%20%20var%20marker_7e73fe6786284923914f5573fc83780d%20%3D%20L.marker%28%0A%20%20%20%20%20%20%20%20%20%20%20%20%5B37.372759%2C%20127.147019%5D%2C%0A%20%20%20%20%20%20%20%20%20%20%20%20%7B%0A%20%20%20%20%20%20%20%20%20%20%20%20%20%20%20%20icon%3A%20new%20L.Icon.Default%28%29%2C%0A%20%20%20%20%20%20%20%20%20%20%20%20%20%20%20%20%7D%0A%20%20%20%20%20%20%20%20%20%20%20%20%29.addTo%28marker_cluster_28c8d3564e194997ba767b1c065e22a7%29%3B%0A%20%20%20%20%20%20%20%20%0A%20%20%20%20%0A%0A%20%20%20%20%20%20%20%20%20%20%20%20%20%20%20%20var%20icon_2e29230819764341abe84eba248a39bf%20%3D%20L.AwesomeMarkers.icon%28%7B%0A%20%20%20%20%20%20%20%20%20%20%20%20%20%20%20%20%20%20%20%20icon%3A%20%27ok%27%2C%0A%20%20%20%20%20%20%20%20%20%20%20%20%20%20%20%20%20%20%20%20iconColor%3A%20%27white%27%2C%0A%20%20%20%20%20%20%20%20%20%20%20%20%20%20%20%20%20%20%20%20markerColor%3A%20%27green%27%2C%0A%20%20%20%20%20%20%20%20%20%20%20%20%20%20%20%20%20%20%20%20prefix%3A%20%27glyphicon%27%2C%0A%20%20%20%20%20%20%20%20%20%20%20%20%20%20%20%20%20%20%20%20extraClasses%3A%20%27fa-rotate-0%27%0A%20%20%20%20%20%20%20%20%20%20%20%20%20%20%20%20%20%20%20%20%7D%29%3B%0A%20%20%20%20%20%20%20%20%20%20%20%20%20%20%20%20marker_7e73fe6786284923914f5573fc83780d.setIcon%28icon_2e29230819764341abe84eba248a39bf%29%3B%0A%20%20%20%20%20%20%20%20%20%20%20%20%0A%20%20%20%20%0A%20%20%20%20%20%20%20%20%20%20%20%20var%20popup_b0cbc221109c40c8b715886ada09de11%20%3D%20L.popup%28%7BmaxWidth%3A%20%27100%25%27%0A%20%20%20%20%20%20%20%20%20%20%20%20%0A%20%20%20%20%20%20%20%20%20%20%20%20%7D%29%3B%0A%0A%20%20%20%20%20%20%20%20%20%20%20%20%0A%20%20%20%20%20%20%20%20%20%20%20%20%20%20%20%20var%20html_755ba0d41a444f48b0721db8f23a59cb%20%3D%20%24%28%60%3Cdiv%20id%3D%22html_755ba0d41a444f48b0721db8f23a59cb%22%20style%3D%22width%3A%20100.0%25%3B%20height%3A%20100.0%25%3B%22%3E%EC%9C%A8%EB%8F%99%EC%9E%90%EC%97%B0%EA%B3%B5%EC%9B%90%20B%EC%A3%BC%EC%B0%A8%EC%9E%A5%3C/div%3E%60%29%5B0%5D%3B%0A%20%20%20%20%20%20%20%20%20%20%20%20%20%20%20%20popup_b0cbc221109c40c8b715886ada09de11.setContent%28html_755ba0d41a444f48b0721db8f23a59cb%29%3B%0A%20%20%20%20%20%20%20%20%20%20%20%20%0A%0A%20%20%20%20%20%20%20%20%20%20%20%20marker_7e73fe6786284923914f5573fc83780d.bindPopup%28popup_b0cbc221109c40c8b715886ada09de11%29%0A%20%20%20%20%20%20%20%20%20%20%20%20%3B%0A%0A%20%20%20%20%20%20%20%20%20%20%20%20%0A%20%20%20%20%20%20%20%20%0A%20%20%20%20%0A%20%20%20%20%20%20%20%20var%20marker_de24d8ca620f4683adb9e1f1e74a7513%20%3D%20L.marker%28%0A%20%20%20%20%20%20%20%20%20%20%20%20%5B37.4119752%2C%20127.1320774%5D%2C%0A%20%20%20%20%20%20%20%20%20%20%20%20%7B%0A%20%20%20%20%20%20%20%20%20%20%20%20%20%20%20%20icon%3A%20new%20L.Icon.Default%28%29%2C%0A%20%20%20%20%20%20%20%20%20%20%20%20%20%20%20%20%7D%0A%20%20%20%20%20%20%20%20%20%20%20%20%29.addTo%28marker_cluster_28c8d3564e194997ba767b1c065e22a7%29%3B%0A%20%20%20%20%20%20%20%20%0A%20%20%20%20%0A%0A%20%20%20%20%20%20%20%20%20%20%20%20%20%20%20%20var%20icon_92606d1853074a29b6d9f50559d83c04%20%3D%20L.AwesomeMarkers.icon%28%7B%0A%20%20%20%20%20%20%20%20%20%20%20%20%20%20%20%20%20%20%20%20icon%3A%20%27ok%27%2C%0A%20%20%20%20%20%20%20%20%20%20%20%20%20%20%20%20%20%20%20%20iconColor%3A%20%27white%27%2C%0A%20%20%20%20%20%20%20%20%20%20%20%20%20%20%20%20%20%20%20%20markerColor%3A%20%27green%27%2C%0A%20%20%20%20%20%20%20%20%20%20%20%20%20%20%20%20%20%20%20%20prefix%3A%20%27glyphicon%27%2C%0A%20%20%20%20%20%20%20%20%20%20%20%20%20%20%20%20%20%20%20%20extraClasses%3A%20%27fa-rotate-0%27%0A%20%20%20%20%20%20%20%20%20%20%20%20%20%20%20%20%20%20%20%20%7D%29%3B%0A%20%20%20%20%20%20%20%20%20%20%20%20%20%20%20%20marker_de24d8ca620f4683adb9e1f1e74a7513.setIcon%28icon_92606d1853074a29b6d9f50559d83c04%29%3B%0A%20%20%20%20%20%20%20%20%20%20%20%20%0A%20%20%20%20%0A%20%20%20%20%20%20%20%20%20%20%20%20var%20popup_b157eeda5d4c4f339221a161973ccf66%20%3D%20L.popup%28%7BmaxWidth%3A%20%27100%25%27%0A%20%20%20%20%20%20%20%20%20%20%20%20%0A%20%20%20%20%20%20%20%20%20%20%20%20%7D%29%3B%0A%0A%20%20%20%20%20%20%20%20%20%20%20%20%0A%20%20%20%20%20%20%20%20%20%20%20%20%20%20%20%20var%20html_fc41d253b258415bac7208f684ef8b2a%20%3D%20%24%28%60%3Cdiv%20id%3D%22html_fc41d253b258415bac7208f684ef8b2a%22%20style%3D%22width%3A%20100.0%25%3B%20height%3A%20100.0%25%3B%22%3E%EC%84%B1%EB%82%A8%20%EB%A7%9B%EA%B3%A0%EC%9D%84%20%EC%A3%BC%EC%B0%A8%EC%9E%A5%3C/div%3E%60%29%5B0%5D%3B%0A%20%20%20%20%20%20%20%20%20%20%20%20%20%20%20%20popup_b157eeda5d4c4f339221a161973ccf66.setContent%28html_fc41d253b258415bac7208f684ef8b2a%29%3B%0A%20%20%20%20%20%20%20%20%20%20%20%20%0A%0A%20%20%20%20%20%20%20%20%20%20%20%20marker_de24d8ca620f4683adb9e1f1e74a7513.bindPopup%28popup_b157eeda5d4c4f339221a161973ccf66%29%0A%20%20%20%20%20%20%20%20%20%20%20%20%3B%0A%0A%20%20%20%20%20%20%20%20%20%20%20%20%0A%20%20%20%20%20%20%20%20%0A%20%20%20%20%0A%20%20%20%20%20%20%20%20var%20marker_1a5e81331f77406aae975e0149bad193%20%3D%20L.marker%28%0A%20%20%20%20%20%20%20%20%20%20%20%20%5B37.337867700000004%2C%20127.10861820000001%5D%2C%0A%20%20%20%20%20%20%20%20%20%20%20%20%7B%0A%20%20%20%20%20%20%20%20%20%20%20%20%20%20%20%20icon%3A%20new%20L.Icon.Default%28%29%2C%0A%20%20%20%20%20%20%20%20%20%20%20%20%20%20%20%20%7D%0A%20%20%20%20%20%20%20%20%20%20%20%20%29.addTo%28marker_cluster_28c8d3564e194997ba767b1c065e22a7%29%3B%0A%20%20%20%20%20%20%20%20%0A%20%20%20%20%0A%0A%20%20%20%20%20%20%20%20%20%20%20%20%20%20%20%20var%20icon_73e436e6bca14093a5e94e3beb704733%20%3D%20L.AwesomeMarkers.icon%28%7B%0A%20%20%20%20%20%20%20%20%20%20%20%20%20%20%20%20%20%20%20%20icon%3A%20%27ok%27%2C%0A%20%20%20%20%20%20%20%20%20%20%20%20%20%20%20%20%20%20%20%20iconColor%3A%20%27white%27%2C%0A%20%20%20%20%20%20%20%20%20%20%20%20%20%20%20%20%20%20%20%20markerColor%3A%20%27green%27%2C%0A%20%20%20%20%20%20%20%20%20%20%20%20%20%20%20%20%20%20%20%20prefix%3A%20%27glyphicon%27%2C%0A%20%20%20%20%20%20%20%20%20%20%20%20%20%20%20%20%20%20%20%20extraClasses%3A%20%27fa-rotate-0%27%0A%20%20%20%20%20%20%20%20%20%20%20%20%20%20%20%20%20%20%20%20%7D%29%3B%0A%20%20%20%20%20%20%20%20%20%20%20%20%20%20%20%20marker_1a5e81331f77406aae975e0149bad193.setIcon%28icon_73e436e6bca14093a5e94e3beb704733%29%3B%0A%20%20%20%20%20%20%20%20%20%20%20%20%0A%20%20%20%20%0A%20%20%20%20%20%20%20%20%20%20%20%20var%20popup_cab67e9040694358bf09adc94ebe4d86%20%3D%20L.popup%28%7BmaxWidth%3A%20%27100%25%27%0A%20%20%20%20%20%20%20%20%20%20%20%20%0A%20%20%20%20%20%20%20%20%20%20%20%20%7D%29%3B%0A%0A%20%20%20%20%20%20%20%20%20%20%20%20%0A%20%20%20%20%20%20%20%20%20%20%20%20%20%20%20%20var%20html_d7796eb8e708471bb72211e39528e443%20%3D%20%24%28%60%3Cdiv%20id%3D%22html_d7796eb8e708471bb72211e39528e443%22%20style%3D%22width%3A%20100.0%25%3B%20height%3A%20100.0%25%3B%22%3E%ED%95%98%EB%82%98%EB%A1%9C%EB%A7%88%ED%8A%B8%20%EC%84%B1%EB%82%A8%EC%A0%90%3C/div%3E%60%29%5B0%5D%3B%0A%20%20%20%20%20%20%20%20%20%20%20%20%20%20%20%20popup_cab67e9040694358bf09adc94ebe4d86.setContent%28html_d7796eb8e708471bb72211e39528e443%29%3B%0A%20%20%20%20%20%20%20%20%20%20%20%20%0A%0A%20%20%20%20%20%20%20%20%20%20%20%20marker_1a5e81331f77406aae975e0149bad193.bindPopup%28popup_cab67e9040694358bf09adc94ebe4d86%29%0A%20%20%20%20%20%20%20%20%20%20%20%20%3B%0A%0A%20%20%20%20%20%20%20%20%20%20%20%20%0A%20%20%20%20%20%20%20%20%0A%20%20%20%20%0A%20%20%20%20%20%20%20%20var%20marker_4cd775ce7fbb42e98fdbbefc1526b2de%20%3D%20L.marker%28%0A%20%20%20%20%20%20%20%20%20%20%20%20%5B37.75264066%2C%20127.07132022%5D%2C%0A%20%20%20%20%20%20%20%20%20%20%20%20%7B%0A%20%20%20%20%20%20%20%20%20%20%20%20%20%20%20%20icon%3A%20new%20L.Icon.Default%28%29%2C%0A%20%20%20%20%20%20%20%20%20%20%20%20%20%20%20%20%7D%0A%20%20%20%20%20%20%20%20%20%20%20%20%29.addTo%28marker_cluster_28c8d3564e194997ba767b1c065e22a7%29%3B%0A%20%20%20%20%20%20%20%20%0A%20%20%20%20%0A%0A%20%20%20%20%20%20%20%20%20%20%20%20%20%20%20%20var%20icon_179dcc4f5b0a4ea6964f82c7db7aabd4%20%3D%20L.AwesomeMarkers.icon%28%7B%0A%20%20%20%20%20%20%20%20%20%20%20%20%20%20%20%20%20%20%20%20icon%3A%20%27ok%27%2C%0A%20%20%20%20%20%20%20%20%20%20%20%20%20%20%20%20%20%20%20%20iconColor%3A%20%27white%27%2C%0A%20%20%20%20%20%20%20%20%20%20%20%20%20%20%20%20%20%20%20%20markerColor%3A%20%27red%27%2C%0A%20%20%20%20%20%20%20%20%20%20%20%20%20%20%20%20%20%20%20%20prefix%3A%20%27glyphicon%27%2C%0A%20%20%20%20%20%20%20%20%20%20%20%20%20%20%20%20%20%20%20%20extraClasses%3A%20%27fa-rotate-0%27%0A%20%20%20%20%20%20%20%20%20%20%20%20%20%20%20%20%20%20%20%20%7D%29%3B%0A%20%20%20%20%20%20%20%20%20%20%20%20%20%20%20%20marker_4cd775ce7fbb42e98fdbbefc1526b2de.setIcon%28icon_179dcc4f5b0a4ea6964f82c7db7aabd4%29%3B%0A%20%20%20%20%20%20%20%20%20%20%20%20%0A%20%20%20%20%0A%20%20%20%20%20%20%20%20%20%20%20%20var%20popup_2f5f2007927b4e98a23f6087eb724077%20%3D%20L.popup%28%7BmaxWidth%3A%20%27100%25%27%0A%20%20%20%20%20%20%20%20%20%20%20%20%0A%20%20%20%20%20%20%20%20%20%20%20%20%7D%29%3B%0A%0A%20%20%20%20%20%20%20%20%20%20%20%20%0A%20%20%20%20%20%20%20%20%20%20%20%20%20%20%20%20var%20html_02eea8098efb47a8bfe84bc28f6400c0%20%3D%20%24%28%60%3Cdiv%20id%3D%22html_02eea8098efb47a8bfe84bc28f6400c0%22%20style%3D%22width%3A%20100.0%25%3B%20height%3A%20100.0%25%3B%22%3E%ED%99%88%ED%94%8C%EB%9F%AC%EC%8A%A4%20%EC%9D%98%EC%A0%95%EB%B6%80%EC%A0%90%3C/div%3E%60%29%5B0%5D%3B%0A%20%20%20%20%20%20%20%20%20%20%20%20%20%20%20%20popup_2f5f2007927b4e98a23f6087eb724077.setContent%28html_02eea8098efb47a8bfe84bc28f6400c0%29%3B%0A%20%20%20%20%20%20%20%20%20%20%20%20%0A%0A%20%20%20%20%20%20%20%20%20%20%20%20marker_4cd775ce7fbb42e98fdbbefc1526b2de.bindPopup%28popup_2f5f2007927b4e98a23f6087eb724077%29%0A%20%20%20%20%20%20%20%20%20%20%20%20%3B%0A%0A%20%20%20%20%20%20%20%20%20%20%20%20%0A%20%20%20%20%20%20%20%20%0A%20%20%20%20%0A%20%20%20%20%20%20%20%20var%20marker_ca802a979e0340edb7590feb199d93b9%20%3D%20L.marker%28%0A%20%20%20%20%20%20%20%20%20%20%20%20%5B37.370042%2C%20126.953179%5D%2C%0A%20%20%20%20%20%20%20%20%20%20%20%20%7B%0A%20%20%20%20%20%20%20%20%20%20%20%20%20%20%20%20icon%3A%20new%20L.Icon.Default%28%29%2C%0A%20%20%20%20%20%20%20%20%20%20%20%20%20%20%20%20%7D%0A%20%20%20%20%20%20%20%20%20%20%20%20%29.addTo%28marker_cluster_28c8d3564e194997ba767b1c065e22a7%29%3B%0A%20%20%20%20%20%20%20%20%0A%20%20%20%20%0A%0A%20%20%20%20%20%20%20%20%20%20%20%20%20%20%20%20var%20icon_f01b72833b9941689006fd3db9b29c0b%20%3D%20L.AwesomeMarkers.icon%28%7B%0A%20%20%20%20%20%20%20%20%20%20%20%20%20%20%20%20%20%20%20%20icon%3A%20%27ok%27%2C%0A%20%20%20%20%20%20%20%20%20%20%20%20%20%20%20%20%20%20%20%20iconColor%3A%20%27white%27%2C%0A%20%20%20%20%20%20%20%20%20%20%20%20%20%20%20%20%20%20%20%20markerColor%3A%20%27red%27%2C%0A%20%20%20%20%20%20%20%20%20%20%20%20%20%20%20%20%20%20%20%20prefix%3A%20%27glyphicon%27%2C%0A%20%20%20%20%20%20%20%20%20%20%20%20%20%20%20%20%20%20%20%20extraClasses%3A%20%27fa-rotate-0%27%0A%20%20%20%20%20%20%20%20%20%20%20%20%20%20%20%20%20%20%20%20%7D%29%3B%0A%20%20%20%20%20%20%20%20%20%20%20%20%20%20%20%20marker_ca802a979e0340edb7590feb199d93b9.setIcon%28icon_f01b72833b9941689006fd3db9b29c0b%29%3B%0A%20%20%20%20%20%20%20%20%20%20%20%20%0A%20%20%20%20%0A%20%20%20%20%20%20%20%20%20%20%20%20var%20popup_7460b39ce69745adbee6ef5148d25c1d%20%3D%20L.popup%28%7BmaxWidth%3A%20%27100%25%27%0A%20%20%20%20%20%20%20%20%20%20%20%20%0A%20%20%20%20%20%20%20%20%20%20%20%20%7D%29%3B%0A%0A%20%20%20%20%20%20%20%20%20%20%20%20%0A%20%20%20%20%20%20%20%20%20%20%20%20%20%20%20%20var%20html_fe13127434a74be98d906ea842fd1e2a%20%3D%20%24%28%60%3Cdiv%20id%3D%22html_fe13127434a74be98d906ea842fd1e2a%22%20style%3D%22width%3A%20100.0%25%3B%20height%3A%20100.0%25%3B%22%3E%ED%99%88%ED%94%8C%EB%9F%AC%EC%8A%A4%20%EC%95%88%EC%96%91%EC%A0%90%3C/div%3E%60%29%5B0%5D%3B%0A%20%20%20%20%20%20%20%20%20%20%20%20%20%20%20%20popup_7460b39ce69745adbee6ef5148d25c1d.setContent%28html_fe13127434a74be98d906ea842fd1e2a%29%3B%0A%20%20%20%20%20%20%20%20%20%20%20%20%0A%0A%20%20%20%20%20%20%20%20%20%20%20%20marker_ca802a979e0340edb7590feb199d93b9.bindPopup%28popup_7460b39ce69745adbee6ef5148d25c1d%29%0A%20%20%20%20%20%20%20%20%20%20%20%20%3B%0A%0A%20%20%20%20%20%20%20%20%20%20%20%20%0A%20%20%20%20%20%20%20%20%0A%20%20%20%20%0A%20%20%20%20%20%20%20%20var%20marker_5383d8dd10504807b26acdc416e8df41%20%3D%20L.marker%28%0A%20%20%20%20%20%20%20%20%20%20%20%20%5B37.394966%2C%20126.957851%5D%2C%0A%20%20%20%20%20%20%20%20%20%20%20%20%7B%0A%20%20%20%20%20%20%20%20%20%20%20%20%20%20%20%20icon%3A%20new%20L.Icon.Default%28%29%2C%0A%20%20%20%20%20%20%20%20%20%20%20%20%20%20%20%20%7D%0A%20%20%20%20%20%20%20%20%20%20%20%20%29.addTo%28marker_cluster_28c8d3564e194997ba767b1c065e22a7%29%3B%0A%20%20%20%20%20%20%20%20%0A%20%20%20%20%0A%0A%20%20%20%20%20%20%20%20%20%20%20%20%20%20%20%20var%20icon_db3932fd6f364eeaae63da9e38a2c99b%20%3D%20L.AwesomeMarkers.icon%28%7B%0A%20%20%20%20%20%20%20%20%20%20%20%20%20%20%20%20%20%20%20%20icon%3A%20%27ok%27%2C%0A%20%20%20%20%20%20%20%20%20%20%20%20%20%20%20%20%20%20%20%20iconColor%3A%20%27white%27%2C%0A%20%20%20%20%20%20%20%20%20%20%20%20%20%20%20%20%20%20%20%20markerColor%3A%20%27green%27%2C%0A%20%20%20%20%20%20%20%20%20%20%20%20%20%20%20%20%20%20%20%20prefix%3A%20%27glyphicon%27%2C%0A%20%20%20%20%20%20%20%20%20%20%20%20%20%20%20%20%20%20%20%20extraClasses%3A%20%27fa-rotate-0%27%0A%20%20%20%20%20%20%20%20%20%20%20%20%20%20%20%20%20%20%20%20%7D%29%3B%0A%20%20%20%20%20%20%20%20%20%20%20%20%20%20%20%20marker_5383d8dd10504807b26acdc416e8df41.setIcon%28icon_db3932fd6f364eeaae63da9e38a2c99b%29%3B%0A%20%20%20%20%20%20%20%20%20%20%20%20%0A%20%20%20%20%0A%20%20%20%20%20%20%20%20%20%20%20%20var%20popup_0bd74b35c34a4436924cbc19dbce9ed6%20%3D%20L.popup%28%7BmaxWidth%3A%20%27100%25%27%0A%20%20%20%20%20%20%20%20%20%20%20%20%0A%20%20%20%20%20%20%20%20%20%20%20%20%7D%29%3B%0A%0A%20%20%20%20%20%20%20%20%20%20%20%20%0A%20%20%20%20%20%20%20%20%20%20%20%20%20%20%20%20var%20html_c712c15204964f4583d6e486337ad85f%20%3D%20%24%28%60%3Cdiv%20id%3D%22html_c712c15204964f4583d6e486337ad85f%22%20style%3D%22width%3A%20100.0%25%3B%20height%3A%20100.0%25%3B%22%3E%EC%95%88%EC%96%91%EC%8B%9C%EC%B2%AD%3C/div%3E%60%29%5B0%5D%3B%0A%20%20%20%20%20%20%20%20%20%20%20%20%20%20%20%20popup_0bd74b35c34a4436924cbc19dbce9ed6.setContent%28html_c712c15204964f4583d6e486337ad85f%29%3B%0A%20%20%20%20%20%20%20%20%20%20%20%20%0A%0A%20%20%20%20%20%20%20%20%20%20%20%20marker_5383d8dd10504807b26acdc416e8df41.bindPopup%28popup_0bd74b35c34a4436924cbc19dbce9ed6%29%0A%20%20%20%20%20%20%20%20%20%20%20%20%3B%0A%0A%20%20%20%20%20%20%20%20%20%20%20%20%0A%20%20%20%20%20%20%20%20%0A%20%20%20%20%0A%20%20%20%20%20%20%20%20var%20marker_02df0fff33254afaa404539946ba1d55%20%3D%20L.marker%28%0A%20%20%20%20%20%20%20%20%20%20%20%20%5B37.50395069%2C%20126.76409287%5D%2C%0A%20%20%20%20%20%20%20%20%20%20%20%20%7B%0A%20%20%20%20%20%20%20%20%20%20%20%20%20%20%20%20icon%3A%20new%20L.Icon.Default%28%29%2C%0A%20%20%20%20%20%20%20%20%20%20%20%20%20%20%20%20%7D%0A%20%20%20%20%20%20%20%20%20%20%20%20%29.addTo%28marker_cluster_28c8d3564e194997ba767b1c065e22a7%29%3B%0A%20%20%20%20%20%20%20%20%0A%20%20%20%20%0A%0A%20%20%20%20%20%20%20%20%20%20%20%20%20%20%20%20var%20icon_5468803e72a34e78bf7d863ab58518f2%20%3D%20L.AwesomeMarkers.icon%28%7B%0A%20%20%20%20%20%20%20%20%20%20%20%20%20%20%20%20%20%20%20%20icon%3A%20%27ok%27%2C%0A%20%20%20%20%20%20%20%20%20%20%20%20%20%20%20%20%20%20%20%20iconColor%3A%20%27white%27%2C%0A%20%20%20%20%20%20%20%20%20%20%20%20%20%20%20%20%20%20%20%20markerColor%3A%20%27red%27%2C%0A%20%20%20%20%20%20%20%20%20%20%20%20%20%20%20%20%20%20%20%20prefix%3A%20%27glyphicon%27%2C%0A%20%20%20%20%20%20%20%20%20%20%20%20%20%20%20%20%20%20%20%20extraClasses%3A%20%27fa-rotate-0%27%0A%20%20%20%20%20%20%20%20%20%20%20%20%20%20%20%20%20%20%20%20%7D%29%3B%0A%20%20%20%20%20%20%20%20%20%20%20%20%20%20%20%20marker_02df0fff33254afaa404539946ba1d55.setIcon%28icon_5468803e72a34e78bf7d863ab58518f2%29%3B%0A%20%20%20%20%20%20%20%20%20%20%20%20%0A%20%20%20%20%0A%20%20%20%20%20%20%20%20%20%20%20%20var%20popup_42d3a10663fc4ffabff51a4c4a56025f%20%3D%20L.popup%28%7BmaxWidth%3A%20%27100%25%27%0A%20%20%20%20%20%20%20%20%20%20%20%20%0A%20%20%20%20%20%20%20%20%20%20%20%20%7D%29%3B%0A%0A%20%20%20%20%20%20%20%20%20%20%20%20%0A%20%20%20%20%20%20%20%20%20%20%20%20%20%20%20%20var%20html_10abecf28c8f4498922e49e19dd824f2%20%3D%20%24%28%60%3Cdiv%20id%3D%22html_10abecf28c8f4498922e49e19dd824f2%22%20style%3D%22width%3A%20100.0%25%3B%20height%3A%20100.0%25%3B%22%3E%EC%9D%B4%EB%A7%88%ED%8A%B8%20%EC%A4%91%EB%8F%99%EC%A0%90%3C/div%3E%60%29%5B0%5D%3B%0A%20%20%20%20%20%20%20%20%20%20%20%20%20%20%20%20popup_42d3a10663fc4ffabff51a4c4a56025f.setContent%28html_10abecf28c8f4498922e49e19dd824f2%29%3B%0A%20%20%20%20%20%20%20%20%20%20%20%20%0A%0A%20%20%20%20%20%20%20%20%20%20%20%20marker_02df0fff33254afaa404539946ba1d55.bindPopup%28popup_42d3a10663fc4ffabff51a4c4a56025f%29%0A%20%20%20%20%20%20%20%20%20%20%20%20%3B%0A%0A%20%20%20%20%20%20%20%20%20%20%20%20%0A%20%20%20%20%20%20%20%20%0A%3C/script%3E onload=\"this.contentDocument.open();this.contentDocument.write(    decodeURIComponent(this.getAttribute('data-html')));this.contentDocument.close();\" allowfullscreen webkitallowfullscreen mozallowfullscreen></iframe></div></div>"
            ],
            "text/plain": [
              "<folium.folium.Map at 0x7fc81974b890>"
            ]
          },
          "metadata": {},
          "execution_count": 76
        }
      ]
    },
    {
      "cell_type": "code",
      "source": [
        "#도착지 좌표 구하기\n",
        "def geocoding(address): # 국토교통부 Geocoder API를 이용하여 도로명주소를 좌표로 변경하는 함수입니다.\n",
        "    address = address.replace('지하 ', '') # 도로명주소에 '지하'가 포함되는 경우 API에서 에러가 발생하는 것을 처리합니다.\n",
        "    apiKey = '9C86074F-229A-3625-86F6-0EAB6B8038A9'\n",
        "    r = requests.get('http://apis.vworld.kr/new2coord.do?q=' + address + '&apiKey=' + apiKey + \\\n",
        "              '&domain=http://map.vworld.kr/&output=json').text\n",
        "    data = json.loads(r)\n",
        "    if 'result' in data:\n",
        "        return (-1, -1)\n",
        "    x, y = data['EPSG_4326_Y'], data['EPSG_4326_X']\n",
        "    dest=Point(latitude=x, longitude=y)\n",
        "    return dest"
      ],
      "metadata": {
        "id": "D6yvfLzozjHf"
      },
      "execution_count": 27,
      "outputs": []
    },
    {
      "cell_type": "code",
      "source": [
        "geocoding('성남시 분당구 판교로')"
      ],
      "metadata": {
        "colab": {
          "base_uri": "https://localhost:8080/"
        },
        "id": "FckhqoRugk_q",
        "outputId": "d7af33bf-988f-4d96-e8b7-5dafcae84b9f"
      },
      "execution_count": 28,
      "outputs": [
        {
          "output_type": "execute_result",
          "data": {
            "text/plain": [
              "Point(37.397919417, 127.090805472, 0.0)"
            ]
          },
          "metadata": {},
          "execution_count": 28
        }
      ]
    },
    {
      "cell_type": "code",
      "source": [
        "#출발지와 도착지의 일직선 코스에서 충전소와의 거리 확인하기\n",
        "from math import sin, cos, atan2, sqrt, degrees, radians, pi\n",
        "from geopy.distance import great_circle as distance\n",
        "from geopy.point import Point\n",
        "\n",
        "\n",
        "def midpoint(a, b):\n",
        "    a_lat, a_lon = radians(a.latitude), radians(a.longitude)\n",
        "    b_lat, b_lon = radians(b.latitude), radians(b.longitude)\n",
        "    delta_lon = b_lon - a_lon\n",
        "    B_x = cos(b_lat) * cos(delta_lon)\n",
        "    B_y = cos(b_lat) * sin(delta_lon)\n",
        "    mid_lat = atan2(\n",
        "        sin(a_lat) + sin(b_lat),\n",
        "        sqrt(((cos(a_lat) + B_x)**2 + B_y**2))\n",
        "    )\n",
        "    mid_lon = a_lon + atan2(B_y, cos(a_lat) + B_x)\n",
        "    # Normalise\n",
        "    mid_lon = (mid_lon + 3*pi) % (2*pi) - pi\n",
        "\n",
        "    return Point(latitude=degrees(mid_lat), longitude=degrees(mid_lon))\n",
        "\n",
        "a = Point(latitude=59.9050401935882, longitude=10.7196405787775)\n",
        "b = Point(latitude=59.9018650448204, longitude=10.7109989561813)\n",
        "p = Point(latitude=59.429105, longitude=10.6542116666667)\n",
        "\n",
        "d = distance(midpoint(a, b), p)\n",
        "print(d)"
      ],
      "metadata": {
        "colab": {
          "base_uri": "https://localhost:8080/"
        },
        "id": "sBjCZkaK4Ra9",
        "outputId": "6330f365-d076-4580-8e0f-a00ed329dfaa"
      },
      "execution_count": 17,
      "outputs": [
        {
          "output_type": "stream",
          "name": "stdout",
          "text": [
            "52.856641263234735 km\n"
          ]
        }
      ]
    },
    {
      "cell_type": "code",
      "source": [
        "#출발지와 도착지의 직선에서 약 1km안에 충전소가 있는지 확인해보기\n",
        "''' 경위도 1도당 111km입니다.\n",
        "0.1위도차이(거리상 11.1km 정도) 가 나는 충전소들만 비교하여 전달해주는 방식을 채택하도록 하겠습니다.'''\n",
        "import folium\n",
        "from folium import plugins\n",
        "\n",
        "def find_charger(a,b):\n",
        "    min_lat=min(a.latitude,b.latitude) #좌표값 비교를 위해 최대.최소값 나눠주기\n",
        "    min_lng=min(a.longitude,b.longitude)\n",
        "    max_lat=max(a.latitude,b.latitude)\n",
        "    max_lng=max(a.longitude,b.longitude)\n",
        "    count=0 # 충전소가 없을 시를 확인하기 위한 변수\n",
        "    #출발지와 목적지 사이의 직선에 11km안에 있는 충전소 지도에 보여주기\n",
        "    for lat,lon,label,usetime,num in zip(result.lat,result.lng,result['statNm'],result['useTime'],result['busiCall']):\n",
        "      if lat >= min_lat-0.1 and lat <= max_lat+0.1 and lon >= min_lng-0.1 and lon <= max_lng+0.1:\n",
        "        p= Point(latitude=lat, longitude=lon)\n",
        "        if distance(midpoint(a, b), p)<= 11:\n",
        "          Lat = result.lat.mean()\n",
        "          Long = result.lng.mean()\n",
        "          count += 1\n",
        "          map=folium.Map([Lat,Long],zoom_start=16)\n",
        "          distribution_map=plugins.MarkerCluster().add_to(map)\n",
        "          str_tag = '<strong><font style=\"color:blue\" size=\"4\">'\n",
        "          #출발지 표시\n",
        "          folium.Marker(location=[a.latitude,a.longitude],icon=folium.Icon(color = 'blue', icon = 'car',prefix='fa'),tooltip='출발지').add_to(distribution_map)\n",
        "          #도착지 표시\n",
        "          folium.Marker(location=[b.latitude,b.longitude],icon=folium.Icon(color = 'blue', icon = 'map-pin',prefix='fa'),tooltip='목적지').add_to(distribution_map)\n",
        "          if usetime[:2] == '24' or usetime == '':\n",
        "                folium.Marker(location=[lat,lon],icon=folium.Icon(color = 'green', icon = 'bolt',prefix='fa'),tooltip=str_tag + label + '</font></strong>' + ' (' \\\n",
        "                      + usetime + ')</br>'+'Tel:'+ num+'</br>'+'사용가능').add_to(distribution_map)\n",
        "          elif int(usetime.split('~')[0][:2]) <= datetime.now().hour+9 or int(usetime.split('~')[1][:2]) >= datetime.now().hour+9:\n",
        "                folium.Marker(location=[lat,lon],icon=folium.Icon(color = 'red', icon = 'bolt',prefix='fa'),tooltip=str_tag + label + '</font></strong>' + ' (' \\\n",
        "                              + usetime + ')</br>'+'Tel:'+ num+'</br>'+'영업시간을 확인해주세요').add_to(distribution_map)\n",
        "          else :\n",
        "                folium.Marker(location=[lat,lon],icon=folium.Icon(color = 'red', icon = 'bolt',prefix='fa'),tooltip=str_tag + label + '</font></strong>' + ' (' \\\n",
        "                      + usetime + ')</br>' + 'Tel:'+num+'</br>'+'사용불가').add_to(distribution_map)\n",
        "          map.add_child(distribution_map)\n",
        "      print(f'총 {count}개의 충전소가 검색되었습니다.')\n",
        "      return map\n",
        "      \n",
        "      \n",
        "        \n",
        "      if count ==0:\n",
        "        return '전기차 렌트를 추천하지 않습니다. 이용 반경 1km내에 충전소가 없습니다.'\n",
        "# <pre></pre>\n",
        "\n",
        "\n"
      ],
      "metadata": {
        "id": "8dzi2onQ6Str"
      },
      "execution_count": 24,
      "outputs": []
    },
    {
      "cell_type": "code",
      "source": [
        "result.info()"
      ],
      "metadata": {
        "colab": {
          "base_uri": "https://localhost:8080/"
        },
        "id": "1Bcvcn5T7Xgq",
        "outputId": "ad404829-9eeb-405c-b435-c82968466c94"
      },
      "execution_count": 36,
      "outputs": [
        {
          "output_type": "stream",
          "name": "stdout",
          "text": [
            "<class 'pandas.core.frame.DataFrame'>\n",
            "RangeIndex: 10 entries, 0 to 9\n",
            "Data columns (total 7 columns):\n",
            " #   Column     Non-Null Count  Dtype  \n",
            "---  ------     --------------  -----  \n",
            " 0   statNm     10 non-null     object \n",
            " 1   chgerType  10 non-null     object \n",
            " 2   addr       10 non-null     object \n",
            " 3   lat        10 non-null     float64\n",
            " 4   lng        10 non-null     float64\n",
            " 5   useTime    10 non-null     object \n",
            " 6   busiCall   10 non-null     object \n",
            "dtypes: float64(2), object(5)\n",
            "memory usage: 688.0+ bytes\n"
          ]
        }
      ]
    },
    {
      "cell_type": "code",
      "source": [
        "a = Point(latitude='37.5283169', longitude='126.9294254')\n",
        "b = Point(latitude='37.4449168', longitude='127.1388684')\n",
        "p = Point(latitude='37.420017', longitude='127.126649')\n",
        "find_charger(a,b)"
      ],
      "metadata": {
        "colab": {
          "base_uri": "https://localhost:8080/",
          "height": 825
        },
        "id": "k8UFZvmV9muz",
        "outputId": "c860aef7-e5a1-44f6-f317-72f3b28f412a"
      },
      "execution_count": 37,
      "outputs": [
        {
          "output_type": "stream",
          "name": "stdout",
          "text": [
            "총 1개의 충전소가 검색되었습니다.\n"
          ]
        },
        {
          "output_type": "execute_result",
          "data": {
            "text/html": [
              "<div style=\"width:100%;\"><div style=\"position:relative;width:100%;height:0;padding-bottom:60%;\"><span style=\"color:#565656\">Make this Notebook Trusted to load map: File -> Trust Notebook</span><iframe src=\"about:blank\" style=\"position:absolute;width:100%;height:100%;left:0;top:0;border:none !important;\" data-html=%3C%21DOCTYPE%20html%3E%0A%3Chead%3E%20%20%20%20%0A%20%20%20%20%3Cmeta%20http-equiv%3D%22content-type%22%20content%3D%22text/html%3B%20charset%3DUTF-8%22%20/%3E%0A%20%20%20%20%3Cscript%3EL_PREFER_CANVAS%3Dfalse%3B%20L_NO_TOUCH%3Dfalse%3B%20L_DISABLE_3D%3Dfalse%3B%3C/script%3E%0A%20%20%20%20%3Cscript%20src%3D%22https%3A//cdn.jsdelivr.net/npm/leaflet%401.4.0/dist/leaflet.js%22%3E%3C/script%3E%0A%20%20%20%20%3Cscript%20src%3D%22https%3A//code.jquery.com/jquery-1.12.4.min.js%22%3E%3C/script%3E%0A%20%20%20%20%3Cscript%20src%3D%22https%3A//maxcdn.bootstrapcdn.com/bootstrap/3.2.0/js/bootstrap.min.js%22%3E%3C/script%3E%0A%20%20%20%20%3Cscript%20src%3D%22https%3A//cdnjs.cloudflare.com/ajax/libs/Leaflet.awesome-markers/2.0.2/leaflet.awesome-markers.js%22%3E%3C/script%3E%0A%20%20%20%20%3Clink%20rel%3D%22stylesheet%22%20href%3D%22https%3A//cdn.jsdelivr.net/npm/leaflet%401.4.0/dist/leaflet.css%22/%3E%0A%20%20%20%20%3Clink%20rel%3D%22stylesheet%22%20href%3D%22https%3A//maxcdn.bootstrapcdn.com/bootstrap/3.2.0/css/bootstrap.min.css%22/%3E%0A%20%20%20%20%3Clink%20rel%3D%22stylesheet%22%20href%3D%22https%3A//maxcdn.bootstrapcdn.com/bootstrap/3.2.0/css/bootstrap-theme.min.css%22/%3E%0A%20%20%20%20%3Clink%20rel%3D%22stylesheet%22%20href%3D%22https%3A//maxcdn.bootstrapcdn.com/font-awesome/4.6.3/css/font-awesome.min.css%22/%3E%0A%20%20%20%20%3Clink%20rel%3D%22stylesheet%22%20href%3D%22https%3A//cdnjs.cloudflare.com/ajax/libs/Leaflet.awesome-markers/2.0.2/leaflet.awesome-markers.css%22/%3E%0A%20%20%20%20%3Clink%20rel%3D%22stylesheet%22%20href%3D%22https%3A//rawcdn.githack.com/python-visualization/folium/master/folium/templates/leaflet.awesome.rotate.css%22/%3E%0A%20%20%20%20%3Cstyle%3Ehtml%2C%20body%20%7Bwidth%3A%20100%25%3Bheight%3A%20100%25%3Bmargin%3A%200%3Bpadding%3A%200%3B%7D%3C/style%3E%0A%20%20%20%20%3Cstyle%3E%23map%20%7Bposition%3Aabsolute%3Btop%3A0%3Bbottom%3A0%3Bright%3A0%3Bleft%3A0%3B%7D%3C/style%3E%0A%20%20%20%20%0A%20%20%20%20%3Cmeta%20name%3D%22viewport%22%20content%3D%22width%3Ddevice-width%2C%0A%20%20%20%20%20%20%20%20initial-scale%3D1.0%2C%20maximum-scale%3D1.0%2C%20user-scalable%3Dno%22%20/%3E%0A%20%20%20%20%3Cstyle%3E%23map_bd65f766742a4785bf974ebd44233382%20%7B%0A%20%20%20%20%20%20%20%20position%3A%20relative%3B%0A%20%20%20%20%20%20%20%20width%3A%20100.0%25%3B%0A%20%20%20%20%20%20%20%20height%3A%20100.0%25%3B%0A%20%20%20%20%20%20%20%20left%3A%200.0%25%3B%0A%20%20%20%20%20%20%20%20top%3A%200.0%25%3B%0A%20%20%20%20%20%20%20%20%7D%0A%20%20%20%20%3C/style%3E%0A%20%20%20%20%3Cscript%20src%3D%22https%3A//cdnjs.cloudflare.com/ajax/libs/leaflet.markercluster/1.1.0/leaflet.markercluster.js%22%3E%3C/script%3E%0A%20%20%20%20%3Clink%20rel%3D%22stylesheet%22%20href%3D%22https%3A//cdnjs.cloudflare.com/ajax/libs/leaflet.markercluster/1.1.0/MarkerCluster.css%22/%3E%0A%20%20%20%20%3Clink%20rel%3D%22stylesheet%22%20href%3D%22https%3A//cdnjs.cloudflare.com/ajax/libs/leaflet.markercluster/1.1.0/MarkerCluster.Default.css%22/%3E%0A%3C/head%3E%0A%3Cbody%3E%20%20%20%20%0A%20%20%20%20%0A%20%20%20%20%3Cdiv%20class%3D%22folium-map%22%20id%3D%22map_bd65f766742a4785bf974ebd44233382%22%20%3E%3C/div%3E%0A%3C/body%3E%0A%3Cscript%3E%20%20%20%20%0A%20%20%20%20%0A%20%20%20%20%0A%20%20%20%20%20%20%20%20var%20bounds%20%3D%20null%3B%0A%20%20%20%20%0A%0A%20%20%20%20var%20map_bd65f766742a4785bf974ebd44233382%20%3D%20L.map%28%0A%20%20%20%20%20%20%20%20%27map_bd65f766742a4785bf974ebd44233382%27%2C%20%7B%0A%20%20%20%20%20%20%20%20center%3A%20%5B37.444806416%2C%20127.05474704400001%5D%2C%0A%20%20%20%20%20%20%20%20zoom%3A%2016%2C%0A%20%20%20%20%20%20%20%20maxBounds%3A%20bounds%2C%0A%20%20%20%20%20%20%20%20layers%3A%20%5B%5D%2C%0A%20%20%20%20%20%20%20%20worldCopyJump%3A%20false%2C%0A%20%20%20%20%20%20%20%20crs%3A%20L.CRS.EPSG3857%2C%0A%20%20%20%20%20%20%20%20zoomControl%3A%20true%2C%0A%20%20%20%20%20%20%20%20%7D%29%3B%0A%0A%0A%20%20%20%20%0A%20%20%20%20var%20tile_layer_2758ef014b5d49fab5c5263d940dda5e%20%3D%20L.tileLayer%28%0A%20%20%20%20%20%20%20%20%27https%3A//%7Bs%7D.tile.openstreetmap.org/%7Bz%7D/%7Bx%7D/%7By%7D.png%27%2C%0A%20%20%20%20%20%20%20%20%7B%0A%20%20%20%20%20%20%20%20%22attribution%22%3A%20null%2C%0A%20%20%20%20%20%20%20%20%22detectRetina%22%3A%20false%2C%0A%20%20%20%20%20%20%20%20%22maxNativeZoom%22%3A%2018%2C%0A%20%20%20%20%20%20%20%20%22maxZoom%22%3A%2018%2C%0A%20%20%20%20%20%20%20%20%22minZoom%22%3A%200%2C%0A%20%20%20%20%20%20%20%20%22noWrap%22%3A%20false%2C%0A%20%20%20%20%20%20%20%20%22opacity%22%3A%201%2C%0A%20%20%20%20%20%20%20%20%22subdomains%22%3A%20%22abc%22%2C%0A%20%20%20%20%20%20%20%20%22tms%22%3A%20false%0A%7D%29.addTo%28map_bd65f766742a4785bf974ebd44233382%29%3B%0A%20%20%20%20%0A%20%20%20%20%20%20%20%20%20%20%20%20var%20marker_cluster_aafa365e3960410f96b954260c852aa0%20%3D%20L.markerClusterGroup%28%7B%7D%29%3B%0A%20%20%20%20%20%20%20%20%20%20%20%20map_bd65f766742a4785bf974ebd44233382.addLayer%28marker_cluster_aafa365e3960410f96b954260c852aa0%29%3B%0A%20%20%20%20%20%20%20%20%20%20%20%20%0A%20%20%20%20%0A%20%20%20%20%20%20%20%20var%20marker_39835462165b4d2aa6ceee5339a1e00e%20%3D%20L.marker%28%0A%20%20%20%20%20%20%20%20%20%20%20%20%5B37.5283169%2C%20126.9294254%5D%2C%0A%20%20%20%20%20%20%20%20%20%20%20%20%7B%0A%20%20%20%20%20%20%20%20%20%20%20%20%20%20%20%20icon%3A%20new%20L.Icon.Default%28%29%2C%0A%20%20%20%20%20%20%20%20%20%20%20%20%20%20%20%20%7D%0A%20%20%20%20%20%20%20%20%20%20%20%20%29.addTo%28marker_cluster_aafa365e3960410f96b954260c852aa0%29%3B%0A%20%20%20%20%20%20%20%20%0A%20%20%20%20%0A%0A%20%20%20%20%20%20%20%20%20%20%20%20%20%20%20%20var%20icon_6dd1e08d47684b7c88d37fb04a2bc9cb%20%3D%20L.AwesomeMarkers.icon%28%7B%0A%20%20%20%20%20%20%20%20%20%20%20%20%20%20%20%20%20%20%20%20icon%3A%20%27car%27%2C%0A%20%20%20%20%20%20%20%20%20%20%20%20%20%20%20%20%20%20%20%20iconColor%3A%20%27white%27%2C%0A%20%20%20%20%20%20%20%20%20%20%20%20%20%20%20%20%20%20%20%20markerColor%3A%20%27blue%27%2C%0A%20%20%20%20%20%20%20%20%20%20%20%20%20%20%20%20%20%20%20%20prefix%3A%20%27fa%27%2C%0A%20%20%20%20%20%20%20%20%20%20%20%20%20%20%20%20%20%20%20%20extraClasses%3A%20%27fa-rotate-0%27%0A%20%20%20%20%20%20%20%20%20%20%20%20%20%20%20%20%20%20%20%20%7D%29%3B%0A%20%20%20%20%20%20%20%20%20%20%20%20%20%20%20%20marker_39835462165b4d2aa6ceee5339a1e00e.setIcon%28icon_6dd1e08d47684b7c88d37fb04a2bc9cb%29%3B%0A%20%20%20%20%20%20%20%20%20%20%20%20%0A%20%20%20%20%0A%20%20%20%20%20%20%20%20marker_39835462165b4d2aa6ceee5339a1e00e.bindTooltip%28%0A%20%20%20%20%20%20%20%20%20%20%20%20%60%3Cdiv%3E%60%0A%20%20%20%20%20%20%20%20%20%20%20%20%2B%20%60%EC%B6%9C%EB%B0%9C%EC%A7%80%60%20%2B%20%60%3C/div%3E%60%2C%0A%20%20%20%20%20%20%20%20%20%20%20%20%7B%22sticky%22%3A%20true%7D%0A%20%20%20%20%20%20%20%20%29%3B%0A%20%20%20%20%20%20%20%20%0A%20%20%20%20%0A%20%20%20%20%20%20%20%20var%20marker_d4d789eda0a24b85ba850cf687b6093e%20%3D%20L.marker%28%0A%20%20%20%20%20%20%20%20%20%20%20%20%5B37.4449168%2C%20127.1388684%5D%2C%0A%20%20%20%20%20%20%20%20%20%20%20%20%7B%0A%20%20%20%20%20%20%20%20%20%20%20%20%20%20%20%20icon%3A%20new%20L.Icon.Default%28%29%2C%0A%20%20%20%20%20%20%20%20%20%20%20%20%20%20%20%20%7D%0A%20%20%20%20%20%20%20%20%20%20%20%20%29.addTo%28marker_cluster_aafa365e3960410f96b954260c852aa0%29%3B%0A%20%20%20%20%20%20%20%20%0A%20%20%20%20%0A%0A%20%20%20%20%20%20%20%20%20%20%20%20%20%20%20%20var%20icon_ea0161a119644afb8479dcc88c2608a8%20%3D%20L.AwesomeMarkers.icon%28%7B%0A%20%20%20%20%20%20%20%20%20%20%20%20%20%20%20%20%20%20%20%20icon%3A%20%27map-pin%27%2C%0A%20%20%20%20%20%20%20%20%20%20%20%20%20%20%20%20%20%20%20%20iconColor%3A%20%27white%27%2C%0A%20%20%20%20%20%20%20%20%20%20%20%20%20%20%20%20%20%20%20%20markerColor%3A%20%27blue%27%2C%0A%20%20%20%20%20%20%20%20%20%20%20%20%20%20%20%20%20%20%20%20prefix%3A%20%27fa%27%2C%0A%20%20%20%20%20%20%20%20%20%20%20%20%20%20%20%20%20%20%20%20extraClasses%3A%20%27fa-rotate-0%27%0A%20%20%20%20%20%20%20%20%20%20%20%20%20%20%20%20%20%20%20%20%7D%29%3B%0A%20%20%20%20%20%20%20%20%20%20%20%20%20%20%20%20marker_d4d789eda0a24b85ba850cf687b6093e.setIcon%28icon_ea0161a119644afb8479dcc88c2608a8%29%3B%0A%20%20%20%20%20%20%20%20%20%20%20%20%0A%20%20%20%20%0A%20%20%20%20%20%20%20%20marker_d4d789eda0a24b85ba850cf687b6093e.bindTooltip%28%0A%20%20%20%20%20%20%20%20%20%20%20%20%60%3Cdiv%3E%60%0A%20%20%20%20%20%20%20%20%20%20%20%20%2B%20%60%EB%AA%A9%EC%A0%81%EC%A7%80%60%20%2B%20%60%3C/div%3E%60%2C%0A%20%20%20%20%20%20%20%20%20%20%20%20%7B%22sticky%22%3A%20true%7D%0A%20%20%20%20%20%20%20%20%29%3B%0A%20%20%20%20%20%20%20%20%0A%20%20%20%20%0A%20%20%20%20%20%20%20%20var%20marker_df07d6bd38ac468fbfd4ecfce2f5a75a%20%3D%20L.marker%28%0A%20%20%20%20%20%20%20%20%20%20%20%20%5B37.44396711%2C%20127.14108755%5D%2C%0A%20%20%20%20%20%20%20%20%20%20%20%20%7B%0A%20%20%20%20%20%20%20%20%20%20%20%20%20%20%20%20icon%3A%20new%20L.Icon.Default%28%29%2C%0A%20%20%20%20%20%20%20%20%20%20%20%20%20%20%20%20%7D%0A%20%20%20%20%20%20%20%20%20%20%20%20%29.addTo%28marker_cluster_aafa365e3960410f96b954260c852aa0%29%3B%0A%20%20%20%20%20%20%20%20%0A%20%20%20%20%0A%0A%20%20%20%20%20%20%20%20%20%20%20%20%20%20%20%20var%20icon_5b043aa85b0d43b9bb422246e2190838%20%3D%20L.AwesomeMarkers.icon%28%7B%0A%20%20%20%20%20%20%20%20%20%20%20%20%20%20%20%20%20%20%20%20icon%3A%20%27bolt%27%2C%0A%20%20%20%20%20%20%20%20%20%20%20%20%20%20%20%20%20%20%20%20iconColor%3A%20%27white%27%2C%0A%20%20%20%20%20%20%20%20%20%20%20%20%20%20%20%20%20%20%20%20markerColor%3A%20%27red%27%2C%0A%20%20%20%20%20%20%20%20%20%20%20%20%20%20%20%20%20%20%20%20prefix%3A%20%27fa%27%2C%0A%20%20%20%20%20%20%20%20%20%20%20%20%20%20%20%20%20%20%20%20extraClasses%3A%20%27fa-rotate-0%27%0A%20%20%20%20%20%20%20%20%20%20%20%20%20%20%20%20%20%20%20%20%7D%29%3B%0A%20%20%20%20%20%20%20%20%20%20%20%20%20%20%20%20marker_df07d6bd38ac468fbfd4ecfce2f5a75a.setIcon%28icon_5b043aa85b0d43b9bb422246e2190838%29%3B%0A%20%20%20%20%20%20%20%20%20%20%20%20%0A%20%20%20%20%0A%20%20%20%20%20%20%20%20marker_df07d6bd38ac468fbfd4ecfce2f5a75a.bindTooltip%28%0A%20%20%20%20%20%20%20%20%20%20%20%20%60%3Cdiv%3E%60%0A%20%20%20%20%20%20%20%20%20%20%20%20%2B%20%60%3Cstrong%3E%3Cfont%20style%3D%22color%3Ablue%22%20size%3D%224%22%3E%EC%9D%B4%EB%A7%88%ED%8A%B8%20%EC%84%B1%EB%82%A8%EC%A0%90%3C/font%3E%3C/strong%3E%20%2810%3A00~22%3A00%29%3C/br%3ETel%3A1661-9408%3C/br%3E%EC%98%81%EC%97%85%EC%8B%9C%EA%B0%84%EC%9D%84%20%ED%99%95%EC%9D%B8%ED%95%B4%EC%A3%BC%EC%84%B8%EC%9A%94%60%20%2B%20%60%3C/div%3E%60%2C%0A%20%20%20%20%20%20%20%20%20%20%20%20%7B%22sticky%22%3A%20true%7D%0A%20%20%20%20%20%20%20%20%29%3B%0A%20%20%20%20%20%20%20%20%0A%3C/script%3E onload=\"this.contentDocument.open();this.contentDocument.write(    decodeURIComponent(this.getAttribute('data-html')));this.contentDocument.close();\" allowfullscreen webkitallowfullscreen mozallowfullscreen></iframe></div></div>"
            ],
            "text/plain": [
              "<folium.folium.Map at 0x7efcd2f5c290>"
            ]
          },
          "metadata": {},
          "execution_count": 37
        }
      ]
    },
    {
      "cell_type": "code",
      "source": [
        "d = distance(midpoint(a, b), p)\n",
        "print(d)\n",
        "if d >= 11:\n",
        "  print('yes')"
      ],
      "metadata": {
        "colab": {
          "base_uri": "https://localhost:8080/"
        },
        "id": "Z02rRWFT-oG_",
        "outputId": "2f4adc75-8a85-4ae9-b625-b9f89b2bc2bb"
      },
      "execution_count": 15,
      "outputs": [
        {
          "output_type": "stream",
          "name": "stdout",
          "text": [
            "11.023040655166502 km\n",
            "yes\n"
          ]
        }
      ]
    },
    {
      "cell_type": "markdown",
      "source": [
        "### 카셰어링 정보, 목적지 정보"
      ],
      "metadata": {
        "id": "8lHzuZnsvPmR"
      }
    },
    {
      "cell_type": "code",
      "source": [
        "import bs4\n",
        "import requests\n",
        "import pandas as pd\n",
        "#카셰어링 입력 받으면 찾기\n",
        "class info: # 주소값을 속성으로 갖는 클래스입니다.\n",
        "    city = '서울특별시' # 시도를 입력합니다(홈페이지의 select 박스의 명칭대로 입력).\n",
        "    district = '종로구' # 시군구를 입력합니다(홈페이지의 select 박스의 명칭대로 입력).\n",
        "    street = None   # 도로명, 건물번호, 건물명으로 검색할 경우에 입력합니다. \n",
        "                         # 만약 시군구 단위로 검색하려면 None으로 입력하면 됩니다.\n",
        "\n",
        "def carshare_info(addr1,addr2):\n",
        "    url = 'http://openapi.tago.go.kr/openapi/service/CarSharingInfoService/getCarZoneListByAddr'\n",
        "    params ={'serviceKey' : 'uq85vB0CVxMjRW8l/pz9IpBuoHGnXu5kw2tDlcjZZ7p8FI4eKWy85qTNK2rcfISJRZQFVabvDSEq3iEhe4cOFQ==',\n",
        "            'pageNo' : 1,\n",
        "            'numOfRows' : '10',\n",
        "            'zoneAddr' : f'{addr1}'+' '+f'{addr2}'}\n",
        "    response = requests.get(url, params=params).text.encode('utf-8')\n",
        "\n",
        "    xmlobj = bs4.BeautifulSoup(response, 'lxml-xml')\n",
        "    rows = xmlobj.findAll('item')\n",
        "\n",
        "    rowList = []\n",
        "    nameList = []\n",
        "    columnList = []\n",
        "\n",
        "    rowsLen = len(rows)\n",
        "    for i in range(0, rowsLen):\n",
        "        columns = rows[i].find_all()\n",
        "        \n",
        "        columnsLen = len(columns)\n",
        "        for j in range(0, columnsLen):\n",
        "            # 첫 번째 행 데이터 값 수집 시에만 컬럼 값을 저장한다. (어차피 rows[0], rows[1], ... 모두 컬럼헤더는 동일한 값을 가지기 때문에 매번 반복할 필요가 없다.)\n",
        "            if i == 0:\n",
        "                nameList.append(columns[j].name)\n",
        "            # 컬럼값은 모든 행의 값을 저장해야한다.    \n",
        "            eachColumn = columns[j].text\n",
        "            columnList.append(eachColumn)\n",
        "        rowList.append(columnList)\n",
        "        columnList = []    # 다음 row의 값을 넣기 위해 비워준다. (매우 중요!!)\n",
        "        \n",
        "    result = pd.DataFrame(rowList, columns=nameList)\n",
        "    return rowList"
      ],
      "metadata": {
        "id": "fBA1PSKdvUm7"
      },
      "execution_count": 19,
      "outputs": []
    },
    {
      "cell_type": "code",
      "source": [
        "carshare_info('수원시','권선구')"
      ],
      "metadata": {
        "colab": {
          "base_uri": "https://localhost:8080/"
        },
        "id": "0gZ-dOWJ4g9P",
        "outputId": "f48d0e80-5e4f-4eba-f208-aa6726522bfa"
      },
      "execution_count": 20,
      "outputs": [
        {
          "output_type": "execute_result",
          "data": {
            "text/plain": [
              "[['경기 수원시 권선구 금곡동 1118-1',\n",
              "  '37.273705',\n",
              "  '126.953377',\n",
              "  '2',\n",
              "  '10305',\n",
              "  '금곡동 행정복지센터 옆(세종타운)'],\n",
              " ['경기 수원시 권선구 세류3동 92-20',\n",
              "  '37.263283',\n",
              "  '127.011078',\n",
              "  '2',\n",
              "  '10377',\n",
              "  'GS칼텍스 인성'],\n",
              " ['경기 수원시 권선구 권선동 1189', '37.251003', '127.019897', '2', '10751', '수원버스터미널'],\n",
              " ['경기 수원시 권선구 탑동 5-4', '37.275349', '126.977448', '2', '10985', '구운중학교 앞'],\n",
              " ['경기 수원시 권선구 호매실동 1400-1',\n",
              "  '37.259136',\n",
              "  '126.962715',\n",
              "  '2',\n",
              "  '11181',\n",
              "  '수원 호매실능실마을'],\n",
              " ['경기 수원시 권선구 금곡동 1141', '37.271919', '126.959297', '2', '11198', '수원 판다팜본점'],\n",
              " ['경기 수원시 권선구 곡반정동 103-1',\n",
              "  '37.245087',\n",
              "  '127.035492',\n",
              "  '2',\n",
              "  '11206',\n",
              "  '수원 곡반정중학교 앞'],\n",
              " ['경기 수원시 권선구 탑동 848', '37.270729', '126.97551', '2', '11218', '수원 탑동중앙사거리'],\n",
              " ['경기 수원시 권선구 금곡동 1115-4',\n",
              "  '37.275146',\n",
              "  '126.954788',\n",
              "  '2',\n",
              "  '11237',\n",
              "  '호매실 딜라이트타워2'],\n",
              " ['경기 수원시 권선구 오목천동 558-3 한양빌딩',\n",
              "  '37.239841',\n",
              "  '126.967819',\n",
              "  '2',\n",
              "  '11239',\n",
              "  '오목초등학교 옆']]"
            ]
          },
          "metadata": {},
          "execution_count": 20
        }
      ]
    },
    {
      "cell_type": "code",
      "source": [
        "# 데이터베이스 확인\n",
        "import sqlite3\n",
        "import pandas as pd\n",
        "\n",
        "conn = sqlite3.connect(\"/content/drive/MyDrive/코드스테이츠 과제/project6/Data.db\", isolation_level=None)\n",
        "# 커서 획득\n",
        "cur = conn.cursor()\n",
        "query = cur.execute(\"SELECT DISTINCT * From chargers\")\n",
        "cols = [column[0] for column in query.description]\n",
        "charger_result = pd.DataFrame.from_records(data=query.fetchall(), columns=cols)\n",
        "charger_result.head()\n"
      ],
      "metadata": {
        "colab": {
          "base_uri": "https://localhost:8080/",
          "height": 206
        },
        "id": "-Su0qtiIpBck",
        "outputId": "d1e92bf8-2dc6-4937-b6b6-0b4602933b32"
      },
      "execution_count": 47,
      "outputs": [
        {
          "output_type": "execute_result",
          "data": {
            "text/html": [
              "<div>\n",
              "<style scoped>\n",
              "    .dataframe tbody tr th:only-of-type {\n",
              "        vertical-align: middle;\n",
              "    }\n",
              "\n",
              "    .dataframe tbody tr th {\n",
              "        vertical-align: top;\n",
              "    }\n",
              "\n",
              "    .dataframe thead th {\n",
              "        text-align: right;\n",
              "    }\n",
              "</style>\n",
              "<table border=\"1\" class=\"dataframe\">\n",
              "  <thead>\n",
              "    <tr style=\"text-align: right;\">\n",
              "      <th></th>\n",
              "      <th>statNm</th>\n",
              "      <th>chgerType</th>\n",
              "      <th>addr</th>\n",
              "      <th>lat</th>\n",
              "      <th>lng</th>\n",
              "      <th>useTime</th>\n",
              "      <th>busiCall</th>\n",
              "    </tr>\n",
              "  </thead>\n",
              "  <tbody>\n",
              "    <tr>\n",
              "      <th>0</th>\n",
              "      <td>종묘 공영주차장</td>\n",
              "      <td>3</td>\n",
              "      <td>서울특별시 종로구 종로 157</td>\n",
              "      <td>37.571076</td>\n",
              "      <td>126.99588</td>\n",
              "      <td>24시간 이용가능</td>\n",
              "      <td>1661-9408</td>\n",
              "    </tr>\n",
              "    <tr>\n",
              "      <th>1</th>\n",
              "      <td>세종로 공영주차장</td>\n",
              "      <td>6</td>\n",
              "      <td>서울특별시 종로구 세종대로 189</td>\n",
              "      <td>37.573611</td>\n",
              "      <td>126.976011</td>\n",
              "      <td>24시간 이용가능</td>\n",
              "      <td>1661-9408</td>\n",
              "    </tr>\n",
              "    <tr>\n",
              "      <th>2</th>\n",
              "      <td>그랜드앰배서더 서울</td>\n",
              "      <td>6</td>\n",
              "      <td>서울특별시 중구 동호로 287</td>\n",
              "      <td>37.559352</td>\n",
              "      <td>127.002350</td>\n",
              "      <td>24시간 이용가능</td>\n",
              "      <td>1661-9408</td>\n",
              "    </tr>\n",
              "    <tr>\n",
              "      <th>3</th>\n",
              "      <td>한강진역 공영주차장</td>\n",
              "      <td>3</td>\n",
              "      <td>서울특별시 용산구 한남동 산10-84</td>\n",
              "      <td>37.540085</td>\n",
              "      <td>127.002804</td>\n",
              "      <td>24시간 이용가능</td>\n",
              "      <td>1661-9408</td>\n",
              "    </tr>\n",
              "    <tr>\n",
              "      <th>4</th>\n",
              "      <td>기아차 성동서비스센터</td>\n",
              "      <td>3</td>\n",
              "      <td>서울특별시 성동구 성수이로26길 61</td>\n",
              "      <td>37.544834</td>\n",
              "      <td>127.064226</td>\n",
              "      <td>24시간 이용가능</td>\n",
              "      <td>1661-9408</td>\n",
              "    </tr>\n",
              "  </tbody>\n",
              "</table>\n",
              "</div>"
            ],
            "text/plain": [
              "        statNm  chgerType  ...    useTime   busiCall\n",
              "0     종묘 공영주차장          3  ...  24시간 이용가능  1661-9408\n",
              "1    세종로 공영주차장          6  ...  24시간 이용가능  1661-9408\n",
              "2   그랜드앰배서더 서울          6  ...  24시간 이용가능  1661-9408\n",
              "3   한강진역 공영주차장          3  ...  24시간 이용가능  1661-9408\n",
              "4  기아차 성동서비스센터          3  ...  24시간 이용가능  1661-9408\n",
              "\n",
              "[5 rows x 7 columns]"
            ]
          },
          "metadata": {},
          "execution_count": 47
        }
      ]
    },
    {
      "cell_type": "code",
      "source": [
        "charger_result.info()"
      ],
      "metadata": {
        "colab": {
          "base_uri": "https://localhost:8080/"
        },
        "id": "CShcpOF53ks5",
        "outputId": "9c68d6b6-c48a-40df-ecdb-985734746e24"
      },
      "execution_count": 52,
      "outputs": [
        {
          "output_type": "stream",
          "name": "stdout",
          "text": [
            "<class 'pandas.core.frame.DataFrame'>\n",
            "RangeIndex: 35776 entries, 0 to 35775\n",
            "Data columns (total 7 columns):\n",
            " #   Column     Non-Null Count  Dtype \n",
            "---  ------     --------------  ----- \n",
            " 0   statNm     35776 non-null  object\n",
            " 1   chgerType  35776 non-null  int64 \n",
            " 2   addr       35776 non-null  object\n",
            " 3   lat        35776 non-null  object\n",
            " 4   lng        35776 non-null  object\n",
            " 5   useTime    35776 non-null  object\n",
            " 6   busiCall   35776 non-null  object\n",
            "dtypes: int64(1), object(6)\n",
            "memory usage: 1.9+ MB\n"
          ]
        }
      ]
    },
    {
      "cell_type": "code",
      "source": [
        "charger_result['useTime']=charger_result['useTime'].str.replace(pat=r'[ㄱ-ㅣ가-힣]+', repl= r'', regex=True)\n",
        "charger_result['useTime']=charger_result['useTime'].str.replace(pat=r'[^\\w]', repl=r'', regex=True)"
      ],
      "metadata": {
        "id": "o7dY4WpTM5ws"
      },
      "execution_count": 50,
      "outputs": []
    },
    {
      "cell_type": "code",
      "source": [
        "# conn= sqlite3.connect(\"/content/drive/MyDrive/코드스테이츠 과제/project6/Data.db\")\n",
        "# cur = conn.cursor()\n",
        "\n",
        "# cur.execute(\"DROP TABLE IF EXISTS chargers;\")\n",
        "\n",
        "# #데이터 저장할 테이블 생성\n",
        "# cur.execute(\"\"\"CREATE TABLE chargers (\n",
        "#    statNm VARCHAR,\n",
        "#    chgerType INTEGER ,\n",
        "#    addr VARCHAR,\n",
        "#    lat VARCHAR,\n",
        "#    lng VARCHAR,\n",
        "#    useTime VARCHAR,\n",
        "#    busiCall INTEGER );\"\"\")\n",
        "\n",
        "# charger_result.to_sql(name='chargers', con=conn, if_exists='append',index=False)  \n",
        "\n",
        "# conn.commit()\n",
        "# conn.close()\n"
      ],
      "metadata": {
        "id": "lUtMAi6u5TKl"
      },
      "execution_count": 15,
      "outputs": []
    }
  ]
}